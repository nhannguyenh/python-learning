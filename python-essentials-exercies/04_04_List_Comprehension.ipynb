{
 "cells": [
  {
   "cell_type": "markdown",
   "id": "3e7a5d77",
   "metadata": {},
   "source": [
    "# List Comprehensions"
   ]
  },
  {
   "cell_type": "code",
   "execution_count": 1,
   "id": "985e8bd3",
   "metadata": {},
   "outputs": [
    {
     "data": {
      "text/plain": [
       "[2, 4, 6, 8, 10]"
      ]
     },
     "execution_count": 1,
     "metadata": {},
     "output_type": "execute_result"
    }
   ],
   "source": [
    "myList = [1, 2, 3, 4, 5]\n",
    "[2 * item for item in myList]"
   ]
  },
  {
   "cell_type": "markdown",
   "id": "0d1af201",
   "metadata": {},
   "source": [
    "## List comprehensions with filters"
   ]
  },
  {
   "cell_type": "code",
   "execution_count": 3,
   "id": "0fc0fa95",
   "metadata": {},
   "outputs": [
    {
     "data": {
      "text/plain": [
       "[0, 10, 20, 30, 40, 50, 60, 70, 80, 90]"
      ]
     },
     "execution_count": 3,
     "metadata": {},
     "output_type": "execute_result"
    }
   ],
   "source": [
    "myList = list(range(100))\n",
    "filteredList = [item for item in myList if item % 10 == 0]\n",
    "filteredList"
   ]
  },
  {
   "cell_type": "code",
   "execution_count": 4,
   "id": "943fb35e",
   "metadata": {},
   "outputs": [
    {
     "data": {
      "text/plain": [
       "[21, 22, 23, 24]"
      ]
     },
     "execution_count": 4,
     "metadata": {},
     "output_type": "execute_result"
    }
   ],
   "source": [
    "filteredList = [item for item in myList if item > 20 and item < 25]\n",
    "filteredList"
   ]
  },
  {
   "cell_type": "markdown",
   "id": "6718bea3",
   "metadata": {},
   "source": [
    "## List comprehensions with functions"
   ]
  },
  {
   "cell_type": "code",
   "execution_count": 5,
   "id": "1d54cd75",
   "metadata": {},
   "outputs": [
    {
     "data": {
      "text/plain": [
       "['My name is Jackie', ' I live in HCM']"
      ]
     },
     "execution_count": 5,
     "metadata": {},
     "output_type": "execute_result"
    }
   ],
   "source": [
    "myString = \"My name is Jackie. I live in HCM\"\n",
    "myString.split(\".\")"
   ]
  },
  {
   "cell_type": "code",
   "execution_count": 6,
   "id": "de558498",
   "metadata": {},
   "outputs": [
    {
     "data": {
      "text/plain": [
       "['My', 'name', 'is', 'Jackie.', 'I', 'live', 'in', 'HCM']"
      ]
     },
     "execution_count": 6,
     "metadata": {},
     "output_type": "execute_result"
    }
   ],
   "source": [
    "myString.split()"
   ]
  },
  {
   "cell_type": "code",
   "execution_count": 7,
   "id": "0d3d137c",
   "metadata": {},
   "outputs": [
    {
     "data": {
      "text/plain": [
       "['my', 'name', 'is', 'jackie', 'i', 'live', 'in', 'hcm']"
      ]
     },
     "execution_count": 7,
     "metadata": {},
     "output_type": "execute_result"
    }
   ],
   "source": [
    "def cleanWord(word):\n",
    "    return word.replace('.', '').lower()\n",
    "\n",
    "[cleanWord(word) for word in myString.split()]"
   ]
  },
  {
   "cell_type": "code",
   "execution_count": 8,
   "id": "04399eef",
   "metadata": {},
   "outputs": [
    {
     "data": {
      "text/plain": [
       "['my', 'is', 'i', 'in']"
      ]
     },
     "execution_count": 8,
     "metadata": {},
     "output_type": "execute_result"
    }
   ],
   "source": [
    "[cleanWord(word) for word in myString.split() if len(cleanWord(word)) < 3]"
   ]
  },
  {
   "cell_type": "markdown",
   "id": "757eb4f5",
   "metadata": {},
   "source": [
    "## Nested list comprehensions"
   ]
  },
  {
   "cell_type": "code",
   "execution_count": 9,
   "id": "a97b84df",
   "metadata": {},
   "outputs": [
    {
     "data": {
      "text/plain": [
       "[['my', 'name', 'is', 'jackie'], ['i', 'live', 'in', 'hcm']]"
      ]
     },
     "execution_count": 9,
     "metadata": {},
     "output_type": "execute_result"
    }
   ],
   "source": [
    "[[cleanWord(word) for word in sentence.split()] for sentence in myString.split('.')]"
   ]
  }
 ],
 "metadata": {
  "kernelspec": {
   "display_name": "Python 3",
   "language": "python",
   "name": "python3"
  },
  "language_info": {
   "codemirror_mode": {
    "name": "ipython",
    "version": 3
   },
   "file_extension": ".py",
   "mimetype": "text/x-python",
   "name": "python",
   "nbconvert_exporter": "python",
   "pygments_lexer": "ipython3",
   "version": "3.13.4"
  }
 },
 "nbformat": 4,
 "nbformat_minor": 5
}
