{
 "cells": [
  {
   "metadata": {},
   "cell_type": "markdown",
   "source": "# Booleans",
   "id": "a624545448a939a5"
  },
  {
   "metadata": {},
   "cell_type": "markdown",
   "source": "## Casting booleans",
   "id": "de44f804d3606357"
  },
  {
   "cell_type": "code",
   "id": "initial_id",
   "metadata": {
    "collapsed": true,
    "ExecuteTime": {
     "end_time": "2025-06-08T02:39:49.830107Z",
     "start_time": "2025-06-08T02:39:49.821399Z"
    }
   },
   "source": "bool(1)",
   "outputs": [
    {
     "data": {
      "text/plain": [
       "True"
      ]
     },
     "execution_count": 1,
     "metadata": {},
     "output_type": "execute_result"
    }
   ],
   "execution_count": 1
  },
  {
   "metadata": {
    "ExecuteTime": {
     "end_time": "2025-06-08T02:40:10.083820Z",
     "start_time": "2025-06-08T02:40:10.076243Z"
    }
   },
   "cell_type": "code",
   "source": "bool(0)",
   "id": "cfe57e9f0e86599",
   "outputs": [
    {
     "data": {
      "text/plain": [
       "False"
      ]
     },
     "execution_count": 2,
     "metadata": {},
     "output_type": "execute_result"
    }
   ],
   "execution_count": 2
  },
  {
   "metadata": {
    "ExecuteTime": {
     "end_time": "2025-06-08T02:42:03.288986Z",
     "start_time": "2025-06-08T02:42:03.283193Z"
    }
   },
   "cell_type": "code",
   "source": "bool(-1)",
   "id": "48da4078a50bb47f",
   "outputs": [
    {
     "data": {
      "text/plain": [
       "True"
      ]
     },
     "execution_count": 6,
     "metadata": {},
     "output_type": "execute_result"
    }
   ],
   "execution_count": 6
  },
  {
   "metadata": {
    "ExecuteTime": {
     "end_time": "2025-06-08T02:41:24.707840Z",
     "start_time": "2025-06-08T02:41:24.701625Z"
    }
   },
   "cell_type": "code",
   "source": "bool(1j)",
   "id": "42d65d3a479c9e3b",
   "outputs": [
    {
     "data": {
      "text/plain": [
       "True"
      ]
     },
     "execution_count": 4,
     "metadata": {},
     "output_type": "execute_result"
    }
   ],
   "execution_count": 4
  },
  {
   "metadata": {
    "ExecuteTime": {
     "end_time": "2025-06-08T02:41:35.888369Z",
     "start_time": "2025-06-08T02:41:35.870694Z"
    }
   },
   "cell_type": "code",
   "source": "bool(0j)",
   "id": "182f10507be142b2",
   "outputs": [
    {
     "data": {
      "text/plain": [
       "False"
      ]
     },
     "execution_count": 5,
     "metadata": {},
     "output_type": "execute_result"
    }
   ],
   "execution_count": 5
  },
  {
   "metadata": {
    "ExecuteTime": {
     "end_time": "2025-06-08T02:42:56.131416Z",
     "start_time": "2025-06-08T02:42:56.121869Z"
    }
   },
   "cell_type": "code",
   "source": "bool(\"True\")",
   "id": "49743af6380ff37b",
   "outputs": [
    {
     "data": {
      "text/plain": [
       "True"
      ]
     },
     "execution_count": 7,
     "metadata": {},
     "output_type": "execute_result"
    }
   ],
   "execution_count": 7
  },
  {
   "metadata": {
    "ExecuteTime": {
     "end_time": "2025-06-08T02:43:09.583941Z",
     "start_time": "2025-06-08T02:43:09.578084Z"
    }
   },
   "cell_type": "code",
   "source": "bool(\"False\")",
   "id": "a7c71f410aa8787d",
   "outputs": [
    {
     "data": {
      "text/plain": [
       "True"
      ]
     },
     "execution_count": 8,
     "metadata": {},
     "output_type": "execute_result"
    }
   ],
   "execution_count": 8
  },
  {
   "metadata": {
    "ExecuteTime": {
     "end_time": "2025-06-08T02:43:20.523254Z",
     "start_time": "2025-06-08T02:43:20.516587Z"
    }
   },
   "cell_type": "code",
   "source": "bool(\"\")",
   "id": "106fd5939f2fc9d",
   "outputs": [
    {
     "data": {
      "text/plain": [
       "False"
      ]
     },
     "execution_count": 9,
     "metadata": {},
     "output_type": "execute_result"
    }
   ],
   "execution_count": 9
  },
  {
   "metadata": {
    "ExecuteTime": {
     "end_time": "2025-06-08T02:45:10.608582Z",
     "start_time": "2025-06-08T02:45:10.602961Z"
    }
   },
   "cell_type": "code",
   "source": "bool(\" \")",
   "id": "d6f4e124f508cf59",
   "outputs": [
    {
     "data": {
      "text/plain": [
       "True"
      ]
     },
     "execution_count": 10,
     "metadata": {},
     "output_type": "execute_result"
    }
   ],
   "execution_count": 10
  },
  {
   "metadata": {
    "ExecuteTime": {
     "end_time": "2025-06-08T02:45:32.230723Z",
     "start_time": "2025-06-08T02:45:32.225523Z"
    }
   },
   "cell_type": "code",
   "source": "bool({})",
   "id": "f57d17c980888c84",
   "outputs": [
    {
     "data": {
      "text/plain": [
       "False"
      ]
     },
     "execution_count": 12,
     "metadata": {},
     "output_type": "execute_result"
    }
   ],
   "execution_count": 12
  },
  {
   "metadata": {
    "ExecuteTime": {
     "end_time": "2025-06-08T02:45:20.543401Z",
     "start_time": "2025-06-08T02:45:20.538580Z"
    }
   },
   "cell_type": "code",
   "source": "bool([])",
   "id": "f4c21a38a3248d2f",
   "outputs": [
    {
     "data": {
      "text/plain": [
       "False"
      ]
     },
     "execution_count": 11,
     "metadata": {},
     "output_type": "execute_result"
    }
   ],
   "execution_count": 11
  },
  {
   "metadata": {
    "ExecuteTime": {
     "end_time": "2025-06-08T02:45:46.350905Z",
     "start_time": "2025-06-08T02:45:46.344823Z"
    }
   },
   "cell_type": "code",
   "source": "bool([1.2])",
   "id": "a31e6c892d31839c",
   "outputs": [
    {
     "data": {
      "text/plain": [
       "True"
      ]
     },
     "execution_count": 13,
     "metadata": {},
     "output_type": "execute_result"
    }
   ],
   "execution_count": 13
  },
  {
   "metadata": {
    "ExecuteTime": {
     "end_time": "2025-06-08T02:46:57.885610Z",
     "start_time": "2025-06-08T02:46:57.880680Z"
    }
   },
   "cell_type": "code",
   "source": "bool(None)",
   "id": "394360c86a0f017e",
   "outputs": [
    {
     "data": {
      "text/plain": [
       "False"
      ]
     },
     "execution_count": 14,
     "metadata": {},
     "output_type": "execute_result"
    }
   ],
   "execution_count": 14
  },
  {
   "metadata": {},
   "cell_type": "markdown",
   "source": "## Boolean logic",
   "id": "e3ab4601d2682efd"
  },
  {
   "metadata": {
    "ExecuteTime": {
     "end_time": "2025-06-08T03:02:01.767317Z",
     "start_time": "2025-06-08T03:02:01.762884Z"
    }
   },
   "cell_type": "code",
   "source": [
    "weatherIsNice = True\n",
    "haveUmbrella = False\n",
    "\n",
    "if not (haveUmbrella or weatherIsNice):\n",
    "    print(\"Stay inside\")\n",
    "else:\n",
    "    print(\"Stay outside\")"
   ],
   "id": "4688486288049983",
   "outputs": [
    {
     "name": "stdout",
     "output_type": "stream",
     "text": [
      "Stay outside\n"
     ]
    }
   ],
   "execution_count": 18
  },
  {
   "metadata": {},
   "cell_type": "code",
   "outputs": [],
   "execution_count": null,
   "source": "",
   "id": "e936e5eead99d1b1"
  }
 ],
 "metadata": {
  "kernelspec": {
   "display_name": "Python 3",
   "language": "python",
   "name": "python3"
  },
  "language_info": {
   "codemirror_mode": {
    "name": "ipython",
    "version": 2
   },
   "file_extension": ".py",
   "mimetype": "text/x-python",
   "name": "python",
   "nbconvert_exporter": "python",
   "pygments_lexer": "ipython2",
   "version": "2.7.6"
  }
 },
 "nbformat": 4,
 "nbformat_minor": 5
}
