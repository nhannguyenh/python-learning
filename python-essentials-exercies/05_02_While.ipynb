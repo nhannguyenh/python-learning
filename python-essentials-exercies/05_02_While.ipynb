{
 "cells": [
  {
   "metadata": {},
   "cell_type": "markdown",
   "source": [
    "# While Loops\n",
    "## Pass"
   ],
   "id": "906adbfdf70c9a29"
  },
  {
   "cell_type": "code",
   "id": "initial_id",
   "metadata": {
    "collapsed": true,
    "ExecuteTime": {
     "end_time": "2025-06-11T14:39:52.437438Z",
     "start_time": "2025-06-11T14:39:52.431455Z"
    }
   },
   "source": [
    "from datetime import datetime\n",
    "\n",
    "waitUntil = datetime.now().second % 60\n",
    "\n",
    "while datetime.now().second != waitUntil:\n",
    "    pass\n",
    "print(f'We are at {waitUntil} seconds!')"
   ],
   "outputs": [
    {
     "name": "stdout",
     "output_type": "stream",
     "text": [
      "We are at 52 seconds!\n"
     ]
    }
   ],
   "execution_count": 10
  },
  {
   "metadata": {},
   "cell_type": "markdown",
   "source": "## Break",
   "id": "adef728256bf3dee"
  },
  {
   "metadata": {
    "ExecuteTime": {
     "end_time": "2025-06-11T14:41:15.360413Z",
     "start_time": "2025-06-11T14:41:15.354440Z"
    }
   },
   "cell_type": "code",
   "source": [
    "waitUntil = datetime.now().second % 60\n",
    "\n",
    "while True:\n",
    "    if datetime.now().second == waitUntil:\n",
    "        print(f'We are at {waitUntil} seconds!')\n",
    "        break"
   ],
   "id": "140894308283cc3c",
   "outputs": [
    {
     "name": "stdout",
     "output_type": "stream",
     "text": [
      "We are at 15 seconds!\n"
     ]
    }
   ],
   "execution_count": 12
  },
  {
   "metadata": {},
   "cell_type": "markdown",
   "source": "## Continue",
   "id": "3582a27ed9674aea"
  },
  {
   "metadata": {
    "ExecuteTime": {
     "end_time": "2025-06-11T14:44:53.386497Z",
     "start_time": "2025-06-11T14:44:53.381393Z"
    }
   },
   "cell_type": "code",
   "source": [
    "while True:\n",
    "    if datetime.now().second < waitUntil:\n",
    "        print(\"Still waiting...\")\n",
    "        continue\n",
    "    break\n",
    "print(f'We are at {waitUntil} seconds!')"
   ],
   "id": "e5d54ee6844ef4c3",
   "outputs": [
    {
     "name": "stdout",
     "output_type": "stream",
     "text": [
      "We are at 15 seconds!\n"
     ]
    }
   ],
   "execution_count": 17
  },
  {
   "metadata": {},
   "cell_type": "code",
   "outputs": [],
   "execution_count": null,
   "source": "",
   "id": "3558bf9f4a7537e8"
  }
 ],
 "metadata": {
  "kernelspec": {
   "display_name": "Python 3",
   "language": "python",
   "name": "python3"
  },
  "language_info": {
   "codemirror_mode": {
    "name": "ipython",
    "version": 2
   },
   "file_extension": ".py",
   "mimetype": "text/x-python",
   "name": "python",
   "nbconvert_exporter": "python",
   "pygments_lexer": "ipython2",
   "version": "2.7.6"
  }
 },
 "nbformat": 4,
 "nbformat_minor": 5
}
