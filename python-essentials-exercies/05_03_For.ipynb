{
 "cells": [
  {
   "metadata": {},
   "cell_type": "markdown",
   "source": "# For Loops",
   "id": "7f2eea18fae1f7e8"
  },
  {
   "cell_type": "code",
   "id": "initial_id",
   "metadata": {
    "collapsed": true,
    "ExecuteTime": {
     "end_time": "2025-06-11T14:49:46.954783Z",
     "start_time": "2025-06-11T14:49:46.950306Z"
    }
   },
   "source": [
    "myList = list(range(1, 5))\n",
    "for item in myList:\n",
    "    print(item)"
   ],
   "outputs": [
    {
     "name": "stdout",
     "output_type": "stream",
     "text": [
      "1\n",
      "2\n",
      "3\n",
      "4\n"
     ]
    }
   ],
   "execution_count": 3
  },
  {
   "metadata": {},
   "cell_type": "markdown",
   "source": "## Pass",
   "id": "bc0ea68d956b9496"
  },
  {
   "metadata": {
    "ExecuteTime": {
     "end_time": "2025-06-11T15:00:03.449702Z",
     "start_time": "2025-06-11T15:00:03.444458Z"
    }
   },
   "cell_type": "code",
   "source": [
    "animalList = {\n",
    "    'b': ['bee', 'bear'],\n",
    "    'c': ['cat', 'chicken'],\n",
    "    'd': ['dog'],\n",
    "    'p': ['pig']\n",
    "}\n",
    "\n",
    "for letter, animals in animalList.items():\n",
    "    pass"
   ],
   "id": "5ebc8fb8f524b573",
   "outputs": [],
   "execution_count": 10
  },
  {
   "metadata": {},
   "cell_type": "markdown",
   "source": "## Continue",
   "id": "f9f4382175f098e0"
  },
  {
   "metadata": {
    "ExecuteTime": {
     "end_time": "2025-06-11T15:00:22.407685Z",
     "start_time": "2025-06-11T15:00:22.403242Z"
    }
   },
   "cell_type": "code",
   "source": [
    "for letter, animals in animalList.items():\n",
    "    if len(animals) > 1:\n",
    "        continue\n",
    "    print(f'Only one animal: {animals}')"
   ],
   "id": "ec637cdd7c3c696c",
   "outputs": [
    {
     "name": "stdout",
     "output_type": "stream",
     "text": [
      "Only one animal: ['dog']\n",
      "Only one animal: ['pig']\n"
     ]
    }
   ],
   "execution_count": 12
  },
  {
   "metadata": {},
   "cell_type": "markdown",
   "source": "## Break",
   "id": "a1002eab4770ac60"
  },
  {
   "metadata": {
    "ExecuteTime": {
     "end_time": "2025-06-11T15:03:46.810023Z",
     "start_time": "2025-06-11T15:03:46.804190Z"
    }
   },
   "cell_type": "code",
   "source": [
    "for letter, animals in animalList.items():\n",
    "    if len(animals) > 1:\n",
    "        print(f'Found {len(animals)} animals: {animals}')"
   ],
   "id": "e8b530da61932030",
   "outputs": [
    {
     "name": "stdout",
     "output_type": "stream",
     "text": [
      "Found 2 animals: ['bee', 'bear']\n",
      "Found 2 animals: ['cat', 'chicken']\n"
     ]
    }
   ],
   "execution_count": 16
  },
  {
   "metadata": {
    "ExecuteTime": {
     "end_time": "2025-06-11T15:04:02.888432Z",
     "start_time": "2025-06-11T15:04:02.884417Z"
    }
   },
   "cell_type": "code",
   "source": [
    "for letter, animals in animalList.items():\n",
    "    if len(animals) > 1:\n",
    "        print(f'Found {len(animals)} animals: {animals}')\n",
    "        break"
   ],
   "id": "aad79737a225a9be",
   "outputs": [
    {
     "name": "stdout",
     "output_type": "stream",
     "text": [
      "Found 2 animals: ['bee', 'bear']\n"
     ]
    }
   ],
   "execution_count": 17
  },
  {
   "metadata": {},
   "cell_type": "markdown",
   "source": "## For/Else",
   "id": "400cbf4a3596cd6f"
  },
  {
   "metadata": {
    "ExecuteTime": {
     "end_time": "2025-06-11T15:22:35.650181Z",
     "start_time": "2025-06-11T15:22:35.645431Z"
    }
   },
   "cell_type": "code",
   "source": [
    "for number in range(2, 10):\n",
    "    for factor in range(2, int(number ** 0.5) + 1):\n",
    "        if number % factor == 0:\n",
    "            break\n",
    "    else:\n",
    "        print(f'{number} is prime!')"
   ],
   "id": "f5cbff6a4890e685",
   "outputs": [
    {
     "name": "stdout",
     "output_type": "stream",
     "text": [
      "2 is prime!\n",
      "3 is prime!\n",
      "5 is prime!\n",
      "7 is prime!\n"
     ]
    }
   ],
   "execution_count": 21
  },
  {
   "metadata": {
    "ExecuteTime": {
     "end_time": "2025-06-11T15:25:14.484684Z",
     "start_time": "2025-06-11T15:25:14.478369Z"
    }
   },
   "cell_type": "code",
   "source": [
    "for number in range(2, 10):\n",
    "    foundFactor = False\n",
    "    for factor in range(2, int(number ** 0.5) + 1):\n",
    "        if number % factor == 0:\n",
    "            foundFactor = True\n",
    "            break\n",
    "    if not foundFactor:\n",
    "        print(f'{number} is prime!')"
   ],
   "id": "d6fcff5bba37789d",
   "outputs": [
    {
     "name": "stdout",
     "output_type": "stream",
     "text": [
      "2 is prime!\n",
      "3 is prime!\n",
      "5 is prime!\n",
      "7 is prime!\n"
     ]
    }
   ],
   "execution_count": 22
  }
 ],
 "metadata": {
  "kernelspec": {
   "display_name": "Python 3",
   "language": "python",
   "name": "python3"
  },
  "language_info": {
   "codemirror_mode": {
    "name": "ipython",
    "version": 2
   },
   "file_extension": ".py",
   "mimetype": "text/x-python",
   "name": "python",
   "nbconvert_exporter": "python",
   "pygments_lexer": "ipython2",
   "version": "2.7.6"
  }
 },
 "nbformat": 4,
 "nbformat_minor": 5
}
