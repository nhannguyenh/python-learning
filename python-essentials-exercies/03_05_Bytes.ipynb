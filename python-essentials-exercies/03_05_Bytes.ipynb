{
 "cells": [
  {
   "metadata": {},
   "cell_type": "markdown",
   "source": "# Bytes",
   "id": "ce8d3bc82bc32744"
  },
  {
   "cell_type": "code",
   "id": "initial_id",
   "metadata": {
    "collapsed": true,
    "ExecuteTime": {
     "end_time": "2025-06-09T14:04:55.478588Z",
     "start_time": "2025-06-09T14:04:55.466212Z"
    }
   },
   "source": "bytes(4)",
   "outputs": [
    {
     "data": {
      "text/plain": [
       "b'\\x00\\x00\\x00\\x00'"
      ]
     },
     "execution_count": 1,
     "metadata": {},
     "output_type": "execute_result"
    }
   ],
   "execution_count": 1
  },
  {
   "metadata": {
    "ExecuteTime": {
     "end_time": "2025-06-09T14:09:20.952143Z",
     "start_time": "2025-06-09T14:09:20.945599Z"
    }
   },
   "cell_type": "code",
   "source": [
    "smileIcon = bytes(\"🙂\", \"utf-8\")\n",
    "smileIcon"
   ],
   "id": "ca037e535078a768",
   "outputs": [
    {
     "data": {
      "text/plain": [
       "b'\\xf0\\x9f\\x99\\x82'"
      ]
     },
     "execution_count": 4,
     "metadata": {},
     "output_type": "execute_result"
    }
   ],
   "execution_count": 4
  },
  {
   "metadata": {
    "ExecuteTime": {
     "end_time": "2025-06-09T14:09:31.406073Z",
     "start_time": "2025-06-09T14:09:31.397916Z"
    }
   },
   "cell_type": "code",
   "source": "smileIcon.decode(\"utf-8\")",
   "id": "88654416e4556434",
   "outputs": [
    {
     "data": {
      "text/plain": [
       "'🙂'"
      ]
     },
     "execution_count": 5,
     "metadata": {},
     "output_type": "execute_result"
    }
   ],
   "execution_count": 5
  }
 ],
 "metadata": {
  "kernelspec": {
   "display_name": "Python 3",
   "language": "python",
   "name": "python3"
  },
  "language_info": {
   "codemirror_mode": {
    "name": "ipython",
    "version": 2
   },
   "file_extension": ".py",
   "mimetype": "text/x-python",
   "name": "python",
   "nbconvert_exporter": "python",
   "pygments_lexer": "ipython2",
   "version": "2.7.6"
  }
 },
 "nbformat": 4,
 "nbformat_minor": 5
}
