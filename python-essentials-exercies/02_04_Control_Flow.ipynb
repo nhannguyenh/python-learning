{
 "cells": [
  {
   "cell_type": "markdown",
   "id": "c6a6aec35804475e",
   "metadata": {},
   "source": [
    "# Control Flow\n",
    "## If/Else statements"
   ]
  },
  {
   "cell_type": "code",
   "execution_count": 2,
   "id": "1f8f1b626f74a71b",
   "metadata": {
    "ExecuteTime": {
     "end_time": "2025-06-07T15:47:06.095057Z",
     "start_time": "2025-06-07T15:47:06.089853Z"
    }
   },
   "outputs": [
    {
     "name": "stdout",
     "output_type": "stream",
     "text": [
      "It's true!\n",
      "It's also true!\n",
      "This will always print.\n"
     ]
    }
   ],
   "source": [
    "a = True\n",
    "b = True\n",
    "if a:\n",
    "    print(\"It's true!\")\n",
    "    if b:\n",
    "        print(\"It's also true!\")\n",
    "else:\n",
    "    print(\"It's false!\")\n",
    "print(\"This will always print.\")"
   ]
  },
  {
   "cell_type": "markdown",
   "id": "f7642dbbd3263fca",
   "metadata": {},
   "source": [
    "## For loops"
   ]
  },
  {
   "cell_type": "code",
   "execution_count": 3,
   "id": "1ec5b46a",
   "metadata": {},
   "outputs": [
    {
     "name": "stdout",
     "output_type": "stream",
     "text": [
      "1\n",
      "2\n",
      "3\n",
      "4\n",
      "5\n"
     ]
    }
   ],
   "source": [
    "a = [1, 2, 3, 4, 5]\n",
    "for element in a:\n",
    "    print(element)"
   ]
  },
  {
   "cell_type": "markdown",
   "id": "78cb2092d474199c",
   "metadata": {},
   "source": [
    "## While loops"
   ]
  },
  {
   "cell_type": "code",
   "execution_count": 4,
   "id": "7e3ef895",
   "metadata": {},
   "outputs": [
    {
     "name": "stdout",
     "output_type": "stream",
     "text": [
      "0\n",
      "1\n",
      "2\n",
      "3\n",
      "4\n"
     ]
    }
   ],
   "source": [
    "a = 0\n",
    "while a < 5:\n",
    "    print(a)\n",
    "    a += 1"
   ]
  },
  {
   "cell_type": "code",
   "execution_count": null,
   "id": "a43bacf0",
   "metadata": {},
   "outputs": [],
   "source": []
  }
 ],
 "metadata": {
  "kernelspec": {
   "display_name": "Python 3",
   "language": "python",
   "name": "python3"
  },
  "language_info": {
   "codemirror_mode": {
    "name": "ipython",
    "version": 3
   },
   "file_extension": ".py",
   "mimetype": "text/x-python",
   "name": "python",
   "nbconvert_exporter": "python",
   "pygments_lexer": "ipython3",
   "version": "3.12.5"
  }
 },
 "nbformat": 4,
 "nbformat_minor": 5
}
