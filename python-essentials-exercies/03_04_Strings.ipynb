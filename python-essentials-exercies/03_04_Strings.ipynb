{
 "cells": [
  {
   "metadata": {},
   "cell_type": "markdown",
   "source": [
    "# Strings\n",
    "## Slicing"
   ],
   "id": "d3b1409a5f893ae0"
  },
  {
   "cell_type": "code",
   "id": "initial_id",
   "metadata": {
    "collapsed": true,
    "ExecuteTime": {
     "end_time": "2025-06-08T03:06:45.293824Z",
     "start_time": "2025-06-08T03:06:45.288454Z"
    }
   },
   "source": "name = \"My name is Jackie\"",
   "outputs": [],
   "execution_count": 1
  },
  {
   "metadata": {
    "ExecuteTime": {
     "end_time": "2025-06-08T03:06:49.301482Z",
     "start_time": "2025-06-08T03:06:49.293939Z"
    }
   },
   "cell_type": "code",
   "source": "name[0]",
   "id": "9a7a2336d0240432",
   "outputs": [
    {
     "data": {
      "text/plain": [
       "'M'"
      ]
     },
     "execution_count": 2,
     "metadata": {},
     "output_type": "execute_result"
    }
   ],
   "execution_count": 2
  },
  {
   "metadata": {
    "ExecuteTime": {
     "end_time": "2025-06-08T03:07:43.896374Z",
     "start_time": "2025-06-08T03:07:43.888582Z"
    }
   },
   "cell_type": "code",
   "source": "name[0:7]",
   "id": "cec30e95dc408b65",
   "outputs": [
    {
     "data": {
      "text/plain": [
       "'My name'"
      ]
     },
     "execution_count": 3,
     "metadata": {},
     "output_type": "execute_result"
    }
   ],
   "execution_count": 3
  },
  {
   "metadata": {
    "ExecuteTime": {
     "end_time": "2025-06-08T03:08:16.952273Z",
     "start_time": "2025-06-08T03:08:16.946399Z"
    }
   },
   "cell_type": "code",
   "source": "name[:7]",
   "id": "becde5bc04062960",
   "outputs": [
    {
     "data": {
      "text/plain": [
       "'My name'"
      ]
     },
     "execution_count": 4,
     "metadata": {},
     "output_type": "execute_result"
    }
   ],
   "execution_count": 4
  },
  {
   "metadata": {
    "ExecuteTime": {
     "end_time": "2025-06-08T03:08:41.483860Z",
     "start_time": "2025-06-08T03:08:41.475114Z"
    }
   },
   "cell_type": "code",
   "source": "name[11:]",
   "id": "3b56d4672e18c420",
   "outputs": [
    {
     "data": {
      "text/plain": [
       "'Jackie'"
      ]
     },
     "execution_count": 5,
     "metadata": {},
     "output_type": "execute_result"
    }
   ],
   "execution_count": 5
  },
  {
   "metadata": {},
   "cell_type": "markdown",
   "source": "## Formating",
   "id": "5c05d9a48287d2b"
  },
  {
   "metadata": {
    "ExecuteTime": {
     "end_time": "2025-06-08T03:13:26.706517Z",
     "start_time": "2025-06-08T03:13:26.701112Z"
    }
   },
   "cell_type": "code",
   "source": "\"My number is \" + str(2)",
   "id": "d47c15acb39fd5e0",
   "outputs": [
    {
     "data": {
      "text/plain": [
       "'My number is 2'"
      ]
     },
     "execution_count": 6,
     "metadata": {},
     "output_type": "execute_result"
    }
   ],
   "execution_count": 6
  },
  {
   "metadata": {
    "ExecuteTime": {
     "end_time": "2025-06-08T03:14:01.256131Z",
     "start_time": "2025-06-08T03:14:01.248343Z"
    }
   },
   "cell_type": "code",
   "source": "f'My number is {2}'",
   "id": "d3d6a41138ce5d9a",
   "outputs": [
    {
     "data": {
      "text/plain": [
       "'My number is 2'"
      ]
     },
     "execution_count": 7,
     "metadata": {},
     "output_type": "execute_result"
    }
   ],
   "execution_count": 7
  },
  {
   "metadata": {
    "ExecuteTime": {
     "end_time": "2025-06-08T03:15:09.433657Z",
     "start_time": "2025-06-08T03:15:09.427208Z"
    }
   },
   "cell_type": "code",
   "source": "f'My number is {2} and twice that is {2 * 2}'",
   "id": "6f14b630d0f77c3f",
   "outputs": [
    {
     "data": {
      "text/plain": [
       "'My number is 2 and twice of that is 4'"
      ]
     },
     "execution_count": 8,
     "metadata": {},
     "output_type": "execute_result"
    }
   ],
   "execution_count": 8
  },
  {
   "metadata": {
    "ExecuteTime": {
     "end_time": "2025-06-08T03:16:06.690333Z",
     "start_time": "2025-06-08T03:16:06.685394Z"
    }
   },
   "cell_type": "code",
   "source": [
    "import math\n",
    "f'Pi is {math.pi}'"
   ],
   "id": "5fd58897c76806c2",
   "outputs": [
    {
     "data": {
      "text/plain": [
       "'Pi is 3.141592653589793'"
      ]
     },
     "execution_count": 9,
     "metadata": {},
     "output_type": "execute_result"
    }
   ],
   "execution_count": 9
  },
  {
   "metadata": {
    "ExecuteTime": {
     "end_time": "2025-06-08T03:16:36.031681Z",
     "start_time": "2025-06-08T03:16:36.026995Z"
    }
   },
   "cell_type": "code",
   "source": "f'Pi is {math.pi:.2f}'",
   "id": "c037e3379c1273a4",
   "outputs": [
    {
     "data": {
      "text/plain": [
       "'Pi is 3.14'"
      ]
     },
     "execution_count": 11,
     "metadata": {},
     "output_type": "execute_result"
    }
   ],
   "execution_count": 11
  },
  {
   "metadata": {
    "ExecuteTime": {
     "end_time": "2025-06-08T03:17:47.305017Z",
     "start_time": "2025-06-08T03:17:47.300690Z"
    }
   },
   "cell_type": "code",
   "source": "\"Pi is: {}\".format(math.pi)",
   "id": "4391e0a158fc6ead",
   "outputs": [
    {
     "data": {
      "text/plain": [
       "'Pi is: 3.141592653589793'"
      ]
     },
     "execution_count": 12,
     "metadata": {},
     "output_type": "execute_result"
    }
   ],
   "execution_count": 12
  },
  {
   "metadata": {},
   "cell_type": "markdown",
   "source": "## Multi-line Strings",
   "id": "f17f17807be8c1a7"
  },
  {
   "metadata": {
    "ExecuteTime": {
     "end_time": "2025-06-08T03:20:39.574366Z",
     "start_time": "2025-06-08T03:20:39.569907Z"
    }
   },
   "cell_type": "code",
   "source": [
    "longString = \"This is\n",
    "              the long string\""
   ],
   "id": "e4c639fa6a7cc92a",
   "outputs": [
    {
     "ename": "SyntaxError",
     "evalue": "unterminated string literal (detected at line 1) (2494968074.py, line 1)",
     "output_type": "error",
     "traceback": [
      "  \u001B[36mCell\u001B[39m\u001B[36m \u001B[39m\u001B[32mIn[16]\u001B[39m\u001B[32m, line 1\u001B[39m\n\u001B[31m    \u001B[39m\u001B[31mlongString = \"This is\u001B[39m\n                 ^\n\u001B[31mSyntaxError\u001B[39m\u001B[31m:\u001B[39m unterminated string literal (detected at line 1)\n"
     ]
    }
   ],
   "execution_count": 16
  },
  {
   "metadata": {
    "ExecuteTime": {
     "end_time": "2025-06-08T03:21:14.907479Z",
     "start_time": "2025-06-08T03:21:14.904342Z"
    }
   },
   "cell_type": "code",
   "source": [
    "myLongString = '''\n",
    "This is my long string\n",
    "I can add a new line here\n",
    "'''"
   ],
   "id": "410cb04ed2b8ae7",
   "outputs": [],
   "execution_count": 17
  },
  {
   "metadata": {
    "ExecuteTime": {
     "end_time": "2025-06-08T03:21:27.024939Z",
     "start_time": "2025-06-08T03:21:27.020057Z"
    }
   },
   "cell_type": "code",
   "source": "myLongString",
   "id": "e160081f5bde879d",
   "outputs": [
    {
     "data": {
      "text/plain": [
       "'\\nThis is my long string\\nI can add a new line here\\n'"
      ]
     },
     "execution_count": 18,
     "metadata": {},
     "output_type": "execute_result"
    }
   ],
   "execution_count": 18
  }
 ],
 "metadata": {
  "kernelspec": {
   "display_name": "Python 3",
   "language": "python",
   "name": "python3"
  },
  "language_info": {
   "codemirror_mode": {
    "name": "ipython",
    "version": 2
   },
   "file_extension": ".py",
   "mimetype": "text/x-python",
   "name": "python",
   "nbconvert_exporter": "python",
   "pygments_lexer": "ipython2",
   "version": "2.7.6"
  }
 },
 "nbformat": 4,
 "nbformat_minor": 5
}
