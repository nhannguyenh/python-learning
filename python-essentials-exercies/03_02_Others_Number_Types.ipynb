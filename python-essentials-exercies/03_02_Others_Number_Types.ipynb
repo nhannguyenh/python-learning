{
 "cells": [
  {
   "metadata": {},
   "cell_type": "markdown",
   "source": "# Other Number Types",
   "id": "8aeb5c0b4042c7b9"
  },
  {
   "metadata": {},
   "cell_type": "markdown",
   "source": "## Integers",
   "id": "2ef01b33cba935e6"
  },
  {
   "cell_type": "code",
   "id": "initial_id",
   "metadata": {
    "collapsed": true,
    "ExecuteTime": {
     "end_time": "2025-06-08T02:26:08.603102Z",
     "start_time": "2025-06-08T02:26:08.592377Z"
    }
   },
   "source": "int(\"100\")",
   "outputs": [
    {
     "data": {
      "text/plain": [
       "100"
      ]
     },
     "execution_count": 1,
     "metadata": {},
     "output_type": "execute_result"
    }
   ],
   "execution_count": 1
  },
  {
   "metadata": {
    "ExecuteTime": {
     "end_time": "2025-06-08T02:26:57.428680Z",
     "start_time": "2025-06-08T02:26:57.422584Z"
    }
   },
   "cell_type": "code",
   "source": "int(\"100\", 2)",
   "id": "3e5df03d714abcba",
   "outputs": [
    {
     "data": {
      "text/plain": [
       "4"
      ]
     },
     "execution_count": 2,
     "metadata": {},
     "output_type": "execute_result"
    }
   ],
   "execution_count": 2
  },
  {
   "metadata": {
    "ExecuteTime": {
     "end_time": "2025-06-08T02:27:16.696749Z",
     "start_time": "2025-06-08T02:27:16.691217Z"
    }
   },
   "cell_type": "code",
   "source": "int(\"100\", 16)",
   "id": "a71f8fd546bd0b22",
   "outputs": [
    {
     "data": {
      "text/plain": [
       "256"
      ]
     },
     "execution_count": 3,
     "metadata": {},
     "output_type": "execute_result"
    }
   ],
   "execution_count": 3
  },
  {
   "metadata": {
    "ExecuteTime": {
     "end_time": "2025-06-08T02:28:50.611902Z",
     "start_time": "2025-06-08T02:28:50.286298Z"
    }
   },
   "cell_type": "code",
   "source": "int(100, 2)",
   "id": "ea7176e2c43ab291",
   "outputs": [
    {
     "ename": "TypeError",
     "evalue": "int() can't convert non-string with explicit base",
     "output_type": "error",
     "traceback": [
      "\u001B[31m---------------------------------------------------------------------------\u001B[39m",
      "\u001B[31mTypeError\u001B[39m                                 Traceback (most recent call last)",
      "\u001B[36mCell\u001B[39m\u001B[36m \u001B[39m\u001B[32mIn[4]\u001B[39m\u001B[32m, line 1\u001B[39m\n\u001B[32m----> \u001B[39m\u001B[32m1\u001B[39m \u001B[38;5;28;43mint\u001B[39;49m\u001B[43m(\u001B[49m\u001B[32;43m100\u001B[39;49m\u001B[43m,\u001B[49m\u001B[43m \u001B[49m\u001B[32;43m2\u001B[39;49m\u001B[43m)\u001B[49m\n",
      "\u001B[31mTypeError\u001B[39m: int() can't convert non-string with explicit base"
     ]
    }
   ],
   "execution_count": 4
  },
  {
   "metadata": {},
   "cell_type": "markdown",
   "source": "## Decimals",
   "id": "e2afe74588a89212"
  },
  {
   "metadata": {
    "ExecuteTime": {
     "end_time": "2025-06-08T02:31:29.457712Z",
     "start_time": "2025-06-08T02:31:29.451038Z"
    }
   },
   "cell_type": "code",
   "source": [
    "from decimal import Decimal, getcontext\n",
    "getcontext()"
   ],
   "id": "5b50b8c5bbad5d9e",
   "outputs": [
    {
     "data": {
      "text/plain": [
       "Context(prec=28, rounding=ROUND_HALF_EVEN, Emin=-999999, Emax=999999, capitals=1, clamp=0, flags=[], traps=[InvalidOperation, DivisionByZero, Overflow])"
      ]
     },
     "execution_count": 5,
     "metadata": {},
     "output_type": "execute_result"
    }
   ],
   "execution_count": 5
  },
  {
   "metadata": {
    "ExecuteTime": {
     "end_time": "2025-06-08T02:32:43.894191Z",
     "start_time": "2025-06-08T02:32:43.891207Z"
    }
   },
   "cell_type": "code",
   "source": "getcontext().prec = 4",
   "id": "821d6c0e8b40b4c4",
   "outputs": [],
   "execution_count": 6
  },
  {
   "metadata": {
    "ExecuteTime": {
     "end_time": "2025-06-08T02:33:03.543571Z",
     "start_time": "2025-06-08T02:33:03.533958Z"
    }
   },
   "cell_type": "code",
   "source": "getcontext()",
   "id": "4047bfe9bdf2e5b7",
   "outputs": [
    {
     "data": {
      "text/plain": [
       "Context(prec=4, rounding=ROUND_HALF_EVEN, Emin=-999999, Emax=999999, capitals=1, clamp=0, flags=[], traps=[InvalidOperation, DivisionByZero, Overflow])"
      ]
     },
     "execution_count": 7,
     "metadata": {},
     "output_type": "execute_result"
    }
   ],
   "execution_count": 7
  },
  {
   "metadata": {
    "ExecuteTime": {
     "end_time": "2025-06-08T02:33:29.715303Z",
     "start_time": "2025-06-08T02:33:29.707006Z"
    }
   },
   "cell_type": "code",
   "source": "Decimal(1) / Decimal(3)",
   "id": "e38eb6e898c911e3",
   "outputs": [
    {
     "data": {
      "text/plain": [
       "Decimal('0.3333')"
      ]
     },
     "execution_count": 8,
     "metadata": {},
     "output_type": "execute_result"
    }
   ],
   "execution_count": 8
  },
  {
   "metadata": {
    "ExecuteTime": {
     "end_time": "2025-06-08T02:33:45.506292Z",
     "start_time": "2025-06-08T02:33:45.503323Z"
    }
   },
   "cell_type": "code",
   "source": "getcontext().prec = 2",
   "id": "9a0e98e5e08f9098",
   "outputs": [],
   "execution_count": 9
  },
  {
   "metadata": {
    "ExecuteTime": {
     "end_time": "2025-06-08T02:33:52.942378Z",
     "start_time": "2025-06-08T02:33:52.937095Z"
    }
   },
   "cell_type": "code",
   "source": "getcontext()",
   "id": "a3b1917ac7c4c1fe",
   "outputs": [
    {
     "data": {
      "text/plain": [
       "Context(prec=2, rounding=ROUND_HALF_EVEN, Emin=-999999, Emax=999999, capitals=1, clamp=0, flags=[Inexact, Rounded], traps=[InvalidOperation, DivisionByZero, Overflow])"
      ]
     },
     "execution_count": 10,
     "metadata": {},
     "output_type": "execute_result"
    }
   ],
   "execution_count": 10
  },
  {
   "metadata": {
    "ExecuteTime": {
     "end_time": "2025-06-08T02:34:00.481180Z",
     "start_time": "2025-06-08T02:34:00.475903Z"
    }
   },
   "cell_type": "code",
   "source": "Decimal(1) / Decimal(3)",
   "id": "7c020132791bdadc",
   "outputs": [
    {
     "data": {
      "text/plain": [
       "Decimal('0.33')"
      ]
     },
     "execution_count": 11,
     "metadata": {},
     "output_type": "execute_result"
    }
   ],
   "execution_count": 11
  },
  {
   "metadata": {
    "ExecuteTime": {
     "end_time": "2025-06-08T02:34:58.950446Z",
     "start_time": "2025-06-08T02:34:58.944285Z"
    }
   },
   "cell_type": "code",
   "source": "Decimal(3.14)",
   "id": "192f724921f7bd76",
   "outputs": [
    {
     "data": {
      "text/plain": [
       "Decimal('3.140000000000000124344978758017532527446746826171875')"
      ]
     },
     "execution_count": 12,
     "metadata": {},
     "output_type": "execute_result"
    }
   ],
   "execution_count": 12
  },
  {
   "metadata": {
    "ExecuteTime": {
     "end_time": "2025-06-08T02:35:07.738336Z",
     "start_time": "2025-06-08T02:35:07.732627Z"
    }
   },
   "cell_type": "code",
   "source": "Decimal(\"3.14\")",
   "id": "43e2f98459b4de3d",
   "outputs": [
    {
     "data": {
      "text/plain": [
       "Decimal('3.14')"
      ]
     },
     "execution_count": 13,
     "metadata": {},
     "output_type": "execute_result"
    }
   ],
   "execution_count": 13
  }
 ],
 "metadata": {
  "kernelspec": {
   "display_name": "Python 3",
   "language": "python",
   "name": "python3"
  },
  "language_info": {
   "codemirror_mode": {
    "name": "ipython",
    "version": 2
   },
   "file_extension": ".py",
   "mimetype": "text/x-python",
   "name": "python",
   "nbconvert_exporter": "python",
   "pygments_lexer": "ipython2",
   "version": "2.7.6"
  }
 },
 "nbformat": 4,
 "nbformat_minor": 5
}
