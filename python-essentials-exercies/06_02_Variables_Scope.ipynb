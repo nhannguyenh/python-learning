{
 "cells": [
  {
   "metadata": {},
   "cell_type": "markdown",
   "source": [
    "# Function Scope\n",
    "## locals()"
   ],
   "id": "d955c3cbe3df4525"
  },
  {
   "cell_type": "code",
   "id": "initial_id",
   "metadata": {
    "collapsed": true,
    "ExecuteTime": {
     "end_time": "2025-06-11T16:25:44.665271Z",
     "start_time": "2025-06-11T16:25:44.101839Z"
    }
   },
   "source": [
    "def perform_operation(num1, num2, operation=\"sum\"):\n",
    "    print(locals())\n",
    "\n",
    "perform_operation(1, 2, operation=\"multiply\")\n",
    "print(num1)"
   ],
   "outputs": [
    {
     "name": "stdout",
     "output_type": "stream",
     "text": [
      "{'num1': 1, 'num2': 2, 'operation': 'multiply'}\n"
     ]
    },
    {
     "ename": "NameError",
     "evalue": "name 'num1' is not defined",
     "output_type": "error",
     "traceback": [
      "\u001B[31m---------------------------------------------------------------------------\u001B[39m",
      "\u001B[31mNameError\u001B[39m                                 Traceback (most recent call last)",
      "\u001B[36mCell\u001B[39m\u001B[36m \u001B[39m\u001B[32mIn[2]\u001B[39m\u001B[32m, line 5\u001B[39m\n\u001B[32m      2\u001B[39m     \u001B[38;5;28mprint\u001B[39m(\u001B[38;5;28mlocals\u001B[39m())\n\u001B[32m      4\u001B[39m perform_operation(\u001B[32m1\u001B[39m, \u001B[32m2\u001B[39m, operation=\u001B[33m\"\u001B[39m\u001B[33mmultiply\u001B[39m\u001B[33m\"\u001B[39m)\n\u001B[32m----> \u001B[39m\u001B[32m5\u001B[39m \u001B[38;5;28mprint\u001B[39m(\u001B[43mnum1\u001B[49m)\n",
      "\u001B[31mNameError\u001B[39m: name 'num1' is not defined"
     ]
    }
   ],
   "execution_count": 2
  },
  {
   "metadata": {},
   "cell_type": "markdown",
   "source": "## globals()",
   "id": "7cb1f6fe9371cc41"
  },
  {
   "metadata": {
    "ExecuteTime": {
     "end_time": "2025-06-11T16:26:16.877430Z",
     "start_time": "2025-06-11T16:26:16.864882Z"
    }
   },
   "cell_type": "code",
   "source": "globals()",
   "id": "7a362cb0e5679a58",
   "outputs": [
    {
     "data": {
      "text/plain": [
       "{'__name__': '__main__',\n",
       " '__doc__': 'Automatically created module for IPython interactive environment',\n",
       " '__package__': None,\n",
       " '__loader__': None,\n",
       " '__spec__': None,\n",
       " '__builtin__': <module 'builtins' (built-in)>,\n",
       " '__builtins__': <module 'builtins' (built-in)>,\n",
       " '_ih': ['',\n",
       "  'def perform_operation(num1, num2, operation=\"sum\"):\\n    print(locals())\\n\\nperform_operation(1, 2, operation=\"multiply\")',\n",
       "  'def perform_operation(num1, num2, operation=\"sum\"):\\n    print(locals())\\n\\nperform_operation(1, 2, operation=\"multiply\")\\nprint(num1)',\n",
       "  'globals()'],\n",
       " '_oh': {},\n",
       " '_dh': [PosixPath('/Users/nhannguyen/Documents/Workspace/Python/python-learning/python-essentials-exercies')],\n",
       " 'In': ['',\n",
       "  'def perform_operation(num1, num2, operation=\"sum\"):\\n    print(locals())\\n\\nperform_operation(1, 2, operation=\"multiply\")',\n",
       "  'def perform_operation(num1, num2, operation=\"sum\"):\\n    print(locals())\\n\\nperform_operation(1, 2, operation=\"multiply\")\\nprint(num1)',\n",
       "  'globals()'],\n",
       " 'Out': {},\n",
       " 'get_ipython': <bound method InteractiveShell.get_ipython of <ipykernel.zmqshell.ZMQInteractiveShell object at 0x1052053a0>>,\n",
       " 'exit': <IPython.core.autocall.ZMQExitAutocall at 0x104eb52b0>,\n",
       " 'quit': <IPython.core.autocall.ZMQExitAutocall at 0x104eb52b0>,\n",
       " 'open': <function _io.open(file, mode='r', buffering=-1, encoding=None, errors=None, newline=None, closefd=True, opener=None)>,\n",
       " '_': '',\n",
       " '__': '',\n",
       " '___': '',\n",
       " '__session__': 'python-essentials-exercies/06_02_Variables_Scope.ipynb',\n",
       " '_i': 'def perform_operation(num1, num2, operation=\"sum\"):\\n    print(locals())\\n\\nperform_operation(1, 2, operation=\"multiply\")\\nprint(num1)',\n",
       " '_ii': 'def perform_operation(num1, num2, operation=\"sum\"):\\n    print(locals())\\n\\nperform_operation(1, 2, operation=\"multiply\")',\n",
       " '_iii': '',\n",
       " '_i1': 'def perform_operation(num1, num2, operation=\"sum\"):\\n    print(locals())\\n\\nperform_operation(1, 2, operation=\"multiply\")',\n",
       " 'perform_operation': <function __main__.perform_operation(num1, num2, operation='sum')>,\n",
       " 'sys': <module 'sys' (built-in)>,\n",
       " 'remove_imported_pydev_package': <function pydev_jupyter_utils.remove_imported_pydev_package()>,\n",
       " '_pydevd_bundle': <module '_pydevd_bundle' from '/Applications/PyCharm.app/Contents/plugins/python-ce/helpers/pydev/_pydevd_bundle/__init__.py'>,\n",
       " 'pydev_jupyter_vars': <module 'pydev_jupyter_vars' from '/Applications/PyCharm.app/Contents/plugins/python-ce/helpers/jupyter_debug/pydev_jupyter_vars.py'>,\n",
       " '_i2': 'def perform_operation(num1, num2, operation=\"sum\"):\\n    print(locals())\\n\\nperform_operation(1, 2, operation=\"multiply\")\\nprint(num1)',\n",
       " '_i3': 'globals()'}"
      ]
     },
     "execution_count": 3,
     "metadata": {},
     "output_type": "execute_result"
    }
   ],
   "execution_count": 3
  },
  {
   "metadata": {},
   "cell_type": "markdown",
   "source": "## Global and Local scope",
   "id": "e0a8496443d1b723"
  },
  {
   "metadata": {
    "ExecuteTime": {
     "end_time": "2025-06-11T16:33:29.304893Z",
     "start_time": "2025-06-11T16:33:29.297219Z"
    }
   },
   "cell_type": "code",
   "source": [
    "globalVariable = \"A global variable\"\n",
    "varA = 2\n",
    "\n",
    "def function1(varA, varB):\n",
    "    print(varA)\n",
    "    print(globalVariable)\n",
    "    print(locals())\n",
    "\n",
    "def function2(varC, varD):\n",
    "    print(varA)\n",
    "    print(globalVariable)\n",
    "    print(locals())\n",
    "\n",
    "function1(1, 2)\n",
    "function2(3, 4)"
   ],
   "id": "9649bb0e991791c2",
   "outputs": [
    {
     "name": "stdout",
     "output_type": "stream",
     "text": [
      "1\n",
      "A global variable\n",
      "{'varA': 1, 'varB': 2}\n",
      "2\n",
      "A global variable\n",
      "{'varC': 3, 'varD': 4}\n"
     ]
    }
   ],
   "execution_count": 6
  },
  {
   "metadata": {
    "ExecuteTime": {
     "end_time": "2025-06-11T16:37:40.037460Z",
     "start_time": "2025-06-11T16:37:39.998246Z"
    }
   },
   "cell_type": "code",
   "source": [
    "def function3(varA):\n",
    "    print(varA)\n",
    "    def inner_function():\n",
    "        print(f'inner_function scope: {locals()}')\n",
    "\n",
    "    inner_function()\n",
    "\n",
    "function3(1)\n",
    "inner_function()"
   ],
   "id": "4137af9d569009c2",
   "outputs": [
    {
     "name": "stdout",
     "output_type": "stream",
     "text": [
      "1\n",
      "inner_function scope: {}\n"
     ]
    },
    {
     "ename": "NameError",
     "evalue": "name 'inner_function' is not defined",
     "output_type": "error",
     "traceback": [
      "\u001B[31m---------------------------------------------------------------------------\u001B[39m",
      "\u001B[31mNameError\u001B[39m                                 Traceback (most recent call last)",
      "\u001B[36mCell\u001B[39m\u001B[36m \u001B[39m\u001B[32mIn[9]\u001B[39m\u001B[32m, line 9\u001B[39m\n\u001B[32m      6\u001B[39m     inner_function()\n\u001B[32m      8\u001B[39m function3(\u001B[32m1\u001B[39m)\n\u001B[32m----> \u001B[39m\u001B[32m9\u001B[39m \u001B[43minner_function\u001B[49m()\n",
      "\u001B[31mNameError\u001B[39m: name 'inner_function' is not defined"
     ]
    }
   ],
   "execution_count": 9
  },
  {
   "metadata": {},
   "cell_type": "code",
   "outputs": [],
   "execution_count": null,
   "source": "",
   "id": "93c5c7c1f7a49b79"
  }
 ],
 "metadata": {
  "kernelspec": {
   "display_name": "Python 3",
   "language": "python",
   "name": "python3"
  },
  "language_info": {
   "codemirror_mode": {
    "name": "ipython",
    "version": 2
   },
   "file_extension": ".py",
   "mimetype": "text/x-python",
   "name": "python",
   "nbconvert_exporter": "python",
   "pygments_lexer": "ipython2",
   "version": "2.7.6"
  }
 },
 "nbformat": 4,
 "nbformat_minor": 5
}
