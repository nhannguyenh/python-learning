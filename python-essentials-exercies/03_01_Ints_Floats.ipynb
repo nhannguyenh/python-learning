{
 "cells": [
  {
   "metadata": {},
   "cell_type": "markdown",
   "source": "# Ints and Floats",
   "id": "33656279f74d1753"
  },
  {
   "cell_type": "code",
   "id": "initial_id",
   "metadata": {
    "collapsed": true,
    "ExecuteTime": {
     "end_time": "2025-06-08T02:14:52.145120Z",
     "start_time": "2025-06-08T02:14:52.136980Z"
    }
   },
   "source": [
    "result = 20 / 4\n",
    "print(result)\n",
    "type(result)"
   ],
   "outputs": [
    {
     "name": "stdout",
     "output_type": "stream",
     "text": [
      "5.0\n"
     ]
    },
    {
     "data": {
      "text/plain": [
       "float"
      ]
     },
     "execution_count": 4,
     "metadata": {},
     "output_type": "execute_result"
    }
   ],
   "execution_count": 4
  },
  {
   "metadata": {
    "ExecuteTime": {
     "end_time": "2025-06-08T02:15:25.408841Z",
     "start_time": "2025-06-08T02:15:25.396622Z"
    }
   },
   "cell_type": "code",
   "source": [
    "result = 4 + 4.0\n",
    "print(result)\n",
    "type(result)"
   ],
   "id": "1a2b601b45da7dd5",
   "outputs": [
    {
     "name": "stdout",
     "output_type": "stream",
     "text": [
      "8.0\n"
     ]
    },
    {
     "data": {
      "text/plain": [
       "float"
      ]
     },
     "execution_count": 6,
     "metadata": {},
     "output_type": "execute_result"
    }
   ],
   "execution_count": 6
  },
  {
   "metadata": {
    "ExecuteTime": {
     "end_time": "2025-06-08T02:15:53.356136Z",
     "start_time": "2025-06-08T02:15:53.345901Z"
    }
   },
   "cell_type": "code",
   "source": [
    "result = 4 * 4.0\n",
    "print(result)\n",
    "type(result)"
   ],
   "id": "b909882fdf1c4e83",
   "outputs": [
    {
     "name": "stdout",
     "output_type": "stream",
     "text": [
      "16.0\n"
     ]
    },
    {
     "data": {
      "text/plain": [
       "float"
      ]
     },
     "execution_count": 7,
     "metadata": {},
     "output_type": "execute_result"
    }
   ],
   "execution_count": 7
  },
  {
   "metadata": {
    "ExecuteTime": {
     "end_time": "2025-06-08T02:15:58.436758Z",
     "start_time": "2025-06-08T02:15:58.430495Z"
    }
   },
   "cell_type": "code",
   "source": [
    "result = 4 ** 4.0\n",
    "print(result)\n",
    "type(result)"
   ],
   "id": "9ea729bff6f32c25",
   "outputs": [
    {
     "name": "stdout",
     "output_type": "stream",
     "text": [
      "256.0\n"
     ]
    },
    {
     "data": {
      "text/plain": [
       "float"
      ]
     },
     "execution_count": 8,
     "metadata": {},
     "output_type": "execute_result"
    }
   ],
   "execution_count": 8
  },
  {
   "metadata": {
    "ExecuteTime": {
     "end_time": "2025-06-08T02:18:56.257025Z",
     "start_time": "2025-06-08T02:18:56.250898Z"
    }
   },
   "cell_type": "code",
   "source": [
    "result = int(4 ** 4)\n",
    "print(result)\n",
    "type(result)"
   ],
   "id": "b3346442b294a381",
   "outputs": [
    {
     "name": "stdout",
     "output_type": "stream",
     "text": [
      "256\n"
     ]
    },
    {
     "data": {
      "text/plain": [
       "int"
      ]
     },
     "execution_count": 9,
     "metadata": {},
     "output_type": "execute_result"
    }
   ],
   "execution_count": 9
  },
  {
   "metadata": {
    "ExecuteTime": {
     "end_time": "2025-06-08T02:20:10.869048Z",
     "start_time": "2025-06-08T02:20:10.862992Z"
    }
   },
   "cell_type": "code",
   "source": "int(8.9)",
   "id": "50af62bb955f74e9",
   "outputs": [
    {
     "data": {
      "text/plain": [
       "8"
      ]
     },
     "execution_count": 10,
     "metadata": {},
     "output_type": "execute_result"
    }
   ],
   "execution_count": 10
  },
  {
   "metadata": {
    "ExecuteTime": {
     "end_time": "2025-06-08T02:21:02.962614Z",
     "start_time": "2025-06-08T02:21:02.957854Z"
    }
   },
   "cell_type": "code",
   "source": "int(14/3)",
   "id": "2b9eab1bedbdcff2",
   "outputs": [
    {
     "data": {
      "text/plain": [
       "4"
      ]
     },
     "execution_count": 11,
     "metadata": {},
     "output_type": "execute_result"
    }
   ],
   "execution_count": 11
  },
  {
   "metadata": {
    "ExecuteTime": {
     "end_time": "2025-06-08T02:21:21.749842Z",
     "start_time": "2025-06-08T02:21:21.744503Z"
    }
   },
   "cell_type": "code",
   "source": "round(14/3, 2)",
   "id": "d12868e91707c73a",
   "outputs": [
    {
     "data": {
      "text/plain": [
       "4.67"
      ]
     },
     "execution_count": 12,
     "metadata": {},
     "output_type": "execute_result"
    }
   ],
   "execution_count": 12
  },
  {
   "metadata": {
    "ExecuteTime": {
     "end_time": "2025-06-08T02:22:04.298675Z",
     "start_time": "2025-06-08T02:22:04.290766Z"
    }
   },
   "cell_type": "code",
   "source": "1.2 - 1.0",
   "id": "1357d71cb374ea67",
   "outputs": [
    {
     "data": {
      "text/plain": [
       "0.19999999999999996"
      ]
     },
     "execution_count": 13,
     "metadata": {},
     "output_type": "execute_result"
    }
   ],
   "execution_count": 13
  },
  {
   "metadata": {
    "ExecuteTime": {
     "end_time": "2025-06-08T02:23:04.403938Z",
     "start_time": "2025-06-08T02:23:04.392689Z"
    }
   },
   "cell_type": "code",
   "source": "round(1.2 - 1.0, 2)",
   "id": "84679b4136562b62",
   "outputs": [
    {
     "data": {
      "text/plain": [
       "0.2"
      ]
     },
     "execution_count": 14,
     "metadata": {},
     "output_type": "execute_result"
    }
   ],
   "execution_count": 14
  }
 ],
 "metadata": {
  "kernelspec": {
   "display_name": "Python 3",
   "language": "python",
   "name": "python3"
  },
  "language_info": {
   "codemirror_mode": {
    "name": "ipython",
    "version": 2
   },
   "file_extension": ".py",
   "mimetype": "text/x-python",
   "name": "python",
   "nbconvert_exporter": "python",
   "pygments_lexer": "ipython2",
   "version": "2.7.6"
  }
 },
 "nbformat": 4,
 "nbformat_minor": 5
}
