{
 "cells": [
  {
   "metadata": {},
   "cell_type": "markdown",
   "source": "# Sets",
   "id": "bf1f16dc78b87078"
  },
  {
   "cell_type": "code",
   "id": "initial_id",
   "metadata": {
    "collapsed": true,
    "ExecuteTime": {
     "end_time": "2025-06-09T15:25:16.674487Z",
     "start_time": "2025-06-09T15:25:16.663611Z"
    }
   },
   "source": [
    "mySets = {1, 2, 3}\n",
    "mySets"
   ],
   "outputs": [
    {
     "data": {
      "text/plain": [
       "{1, 2, 3}"
      ]
     },
     "execution_count": 1,
     "metadata": {},
     "output_type": "execute_result"
    }
   ],
   "execution_count": 1
  },
  {
   "metadata": {
    "ExecuteTime": {
     "end_time": "2025-06-09T15:25:42.054554Z",
     "start_time": "2025-06-09T15:25:42.048575Z"
    }
   },
   "cell_type": "code",
   "source": [
    "mySets = set([1, 2, 3, 4])\n",
    "mySets"
   ],
   "id": "460a19888b571795",
   "outputs": [
    {
     "data": {
      "text/plain": [
       "{1, 2, 3, 4}"
      ]
     },
     "execution_count": 2,
     "metadata": {},
     "output_type": "execute_result"
    }
   ],
   "execution_count": 2
  },
  {
   "metadata": {
    "ExecuteTime": {
     "end_time": "2025-06-09T15:26:47.013622Z",
     "start_time": "2025-06-09T15:26:47.008370Z"
    }
   },
   "cell_type": "code",
   "source": [
    "mySets = set((1, 2, 3, 4, 5))\n",
    "mySets\n"
   ],
   "id": "3a5139eca5e3aae9",
   "outputs": [
    {
     "data": {
      "text/plain": [
       "{1, 2, 3, 4, 5}"
      ]
     },
     "execution_count": 3,
     "metadata": {},
     "output_type": "execute_result"
    }
   ],
   "execution_count": 3
  },
  {
   "metadata": {
    "ExecuteTime": {
     "end_time": "2025-06-09T15:28:45.394373Z",
     "start_time": "2025-06-09T15:28:45.113307Z"
    }
   },
   "cell_type": "code",
   "source": "mySets[0]",
   "id": "a6f90af23b7eae04",
   "outputs": [
    {
     "ename": "TypeError",
     "evalue": "'set' object is not subscriptable",
     "output_type": "error",
     "traceback": [
      "\u001B[31m---------------------------------------------------------------------------\u001B[39m",
      "\u001B[31mTypeError\u001B[39m                                 Traceback (most recent call last)",
      "\u001B[36mCell\u001B[39m\u001B[36m \u001B[39m\u001B[32mIn[4]\u001B[39m\u001B[32m, line 1\u001B[39m\n\u001B[32m----> \u001B[39m\u001B[32m1\u001B[39m \u001B[43mmySets\u001B[49m\u001B[43m[\u001B[49m\u001B[32;43m0\u001B[39;49m\u001B[43m]\u001B[49m\n",
      "\u001B[31mTypeError\u001B[39m: 'set' object is not subscriptable"
     ]
    }
   ],
   "execution_count": 4
  },
  {
   "metadata": {
    "ExecuteTime": {
     "end_time": "2025-06-09T15:29:37.200596Z",
     "start_time": "2025-06-09T15:29:37.193449Z"
    }
   },
   "cell_type": "code",
   "source": [
    "mySets.add(8)\n",
    "mySets"
   ],
   "id": "6b912573188b182c",
   "outputs": [
    {
     "data": {
      "text/plain": [
       "{1, 2, 3, 4, 5, 8}"
      ]
     },
     "execution_count": 5,
     "metadata": {},
     "output_type": "execute_result"
    }
   ],
   "execution_count": 5
  },
  {
   "metadata": {
    "ExecuteTime": {
     "end_time": "2025-06-09T15:34:28.346038Z",
     "start_time": "2025-06-09T15:34:28.341158Z"
    }
   },
   "cell_type": "code",
   "source": [
    "mySets.discard(3)\n",
    "mySets"
   ],
   "id": "58e33db397a4caf5",
   "outputs": [
    {
     "data": {
      "text/plain": [
       "{1, 2, 4, 5, 8}"
      ]
     },
     "execution_count": 6,
     "metadata": {},
     "output_type": "execute_result"
    }
   ],
   "execution_count": 6
  },
  {
   "metadata": {},
   "cell_type": "markdown",
   "source": "# Tupples",
   "id": "b9fcfdcac6c887c5"
  },
  {
   "metadata": {
    "ExecuteTime": {
     "end_time": "2025-06-09T15:35:56.370250Z",
     "start_time": "2025-06-09T15:35:56.364495Z"
    }
   },
   "cell_type": "code",
   "source": [
    "myTupples = (1, 2, 3)\n",
    "myTupples"
   ],
   "id": "93a6cbe2f556a6bf",
   "outputs": [
    {
     "data": {
      "text/plain": [
       "(1, 2, 3)"
      ]
     },
     "execution_count": 7,
     "metadata": {},
     "output_type": "execute_result"
    }
   ],
   "execution_count": 7
  },
  {
   "metadata": {
    "ExecuteTime": {
     "end_time": "2025-06-09T15:37:06.826935Z",
     "start_time": "2025-06-09T15:37:06.821150Z"
    }
   },
   "cell_type": "code",
   "source": "myTupples[0]",
   "id": "acc6e126111ff771",
   "outputs": [
    {
     "data": {
      "text/plain": [
       "1"
      ]
     },
     "execution_count": 8,
     "metadata": {},
     "output_type": "execute_result"
    }
   ],
   "execution_count": 8
  },
  {
   "metadata": {
    "ExecuteTime": {
     "end_time": "2025-06-09T15:37:35.662543Z",
     "start_time": "2025-06-09T15:37:35.633963Z"
    }
   },
   "cell_type": "code",
   "source": "myTupples[0] = 4",
   "id": "50a5560b95b19a0b",
   "outputs": [
    {
     "ename": "TypeError",
     "evalue": "'tuple' object does not support item assignment",
     "output_type": "error",
     "traceback": [
      "\u001B[31m---------------------------------------------------------------------------\u001B[39m",
      "\u001B[31mTypeError\u001B[39m                                 Traceback (most recent call last)",
      "\u001B[36mCell\u001B[39m\u001B[36m \u001B[39m\u001B[32mIn[9]\u001B[39m\u001B[32m, line 1\u001B[39m\n\u001B[32m----> \u001B[39m\u001B[32m1\u001B[39m \u001B[43mmyTupples\u001B[49m\u001B[43m[\u001B[49m\u001B[32;43m0\u001B[39;49m\u001B[43m]\u001B[49m = \u001B[32m4\u001B[39m\n",
      "\u001B[31mTypeError\u001B[39m: 'tuple' object does not support item assignment"
     ]
    }
   ],
   "execution_count": 9
  },
  {
   "metadata": {
    "ExecuteTime": {
     "end_time": "2025-06-09T15:38:11.652961Z",
     "start_time": "2025-06-09T15:38:11.648256Z"
    }
   },
   "cell_type": "code",
   "source": "myTupples[0::2]",
   "id": "ce450e2e0ffdf87b",
   "outputs": [
    {
     "data": {
      "text/plain": [
       "(1, 3)"
      ]
     },
     "execution_count": 11,
     "metadata": {},
     "output_type": "execute_result"
    }
   ],
   "execution_count": 11
  },
  {
   "metadata": {
    "ExecuteTime": {
     "end_time": "2025-06-09T15:43:02.663580Z",
     "start_time": "2025-06-09T15:43:02.631780Z"
    }
   },
   "cell_type": "code",
   "source": [
    "def return_multiple_values():\n",
    "    return 1, 2, 3\n",
    "\n",
    "a, b = return_multiple_values()"
   ],
   "id": "8eb976d1604744a",
   "outputs": [
    {
     "ename": "ValueError",
     "evalue": "too many values to unpack (expected 2)",
     "output_type": "error",
     "traceback": [
      "\u001B[31m---------------------------------------------------------------------------\u001B[39m",
      "\u001B[31mValueError\u001B[39m                                Traceback (most recent call last)",
      "\u001B[36mCell\u001B[39m\u001B[36m \u001B[39m\u001B[32mIn[19]\u001B[39m\u001B[32m, line 4\u001B[39m\n\u001B[32m      1\u001B[39m \u001B[38;5;28;01mdef\u001B[39;00m\u001B[38;5;250m \u001B[39m\u001B[34mreturn_multiple_values\u001B[39m():\n\u001B[32m      2\u001B[39m     \u001B[38;5;28;01mreturn\u001B[39;00m \u001B[32m1\u001B[39m, \u001B[32m2\u001B[39m, \u001B[32m3\u001B[39m\n\u001B[32m----> \u001B[39m\u001B[32m4\u001B[39m a, b = return_multiple_values()\n",
      "\u001B[31mValueError\u001B[39m: too many values to unpack (expected 2)"
     ]
    }
   ],
   "execution_count": 19
  },
  {
   "metadata": {
    "ExecuteTime": {
     "end_time": "2025-06-09T15:43:04.518744Z",
     "start_time": "2025-06-09T15:43:04.512790Z"
    }
   },
   "cell_type": "code",
   "source": [
    "a, b, c = return_multiple_values()\n",
    "print(a)\n",
    "print(b)\n",
    "print(c)"
   ],
   "id": "fd15c353dd207775",
   "outputs": [
    {
     "name": "stdout",
     "output_type": "stream",
     "text": [
      "1\n",
      "2\n",
      "3\n"
     ]
    }
   ],
   "execution_count": 20
  }
 ],
 "metadata": {
  "kernelspec": {
   "display_name": "Python 3",
   "language": "python",
   "name": "python3"
  },
  "language_info": {
   "codemirror_mode": {
    "name": "ipython",
    "version": 2
   },
   "file_extension": ".py",
   "mimetype": "text/x-python",
   "name": "python",
   "nbconvert_exporter": "python",
   "pygments_lexer": "ipython2",
   "version": "2.7.6"
  }
 },
 "nbformat": 4,
 "nbformat_minor": 5
}
