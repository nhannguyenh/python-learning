{
 "cells": [
  {
   "cell_type": "markdown",
   "id": "17f99522",
   "metadata": {},
   "source": [
    "# Functions"
   ]
  },
  {
   "cell_type": "code",
   "id": "af1f0462",
   "metadata": {
    "ExecuteTime": {
     "end_time": "2025-06-07T16:06:05.765228Z",
     "start_time": "2025-06-07T16:06:05.754158Z"
    }
   },
   "source": [
    "def multiplyByThree(value):\n",
    "    return value * 3\n",
    "\n",
    "multiplyByThree(5)"
   ],
   "outputs": [
    {
     "data": {
      "text/plain": [
       "15"
      ]
     },
     "execution_count": 1,
     "metadata": {},
     "output_type": "execute_result"
    }
   ],
   "execution_count": 1
  },
  {
   "cell_type": "code",
   "id": "00d831a6",
   "metadata": {
    "ExecuteTime": {
     "end_time": "2025-06-07T16:06:55.468463Z",
     "start_time": "2025-06-07T16:06:55.459884Z"
    }
   },
   "source": [
    "def multiply(value1, value2):\n",
    "    return value1 * value2\n",
    "\n",
    "multiply(3, 10)"
   ],
   "outputs": [
    {
     "data": {
      "text/plain": [
       "30"
      ]
     },
     "execution_count": 2,
     "metadata": {},
     "output_type": "execute_result"
    }
   ],
   "execution_count": 2
  },
  {
   "metadata": {
    "ExecuteTime": {
     "end_time": "2025-06-07T16:09:26.562260Z",
     "start_time": "2025-06-07T16:09:26.556797Z"
    }
   },
   "cell_type": "code",
   "source": [
    "a = [1, 2, 3]\n",
    "\n",
    "def appendElement(value):\n",
    "    a.append(value)\n",
    "\n",
    "appendElement(10)\n",
    "print(a)"
   ],
   "id": "52b1108231584041",
   "outputs": [
    {
     "name": "stdout",
     "output_type": "stream",
     "text": [
      "[1, 2, 3, 10]\n"
     ]
    }
   ],
   "execution_count": 4
  }
 ],
 "metadata": {
  "kernelspec": {
   "display_name": "Python 3",
   "language": "python",
   "name": "python3"
  },
  "language_info": {
   "codemirror_mode": {
    "name": "ipython",
    "version": 3
   },
   "file_extension": ".py",
   "mimetype": "text/x-python",
   "name": "python",
   "nbconvert_exporter": "python",
   "pygments_lexer": "ipython3",
   "version": "3.12.5"
  }
 },
 "nbformat": 4,
 "nbformat_minor": 5
}
