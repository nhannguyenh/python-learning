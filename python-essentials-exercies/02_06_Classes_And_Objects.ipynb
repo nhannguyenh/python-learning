{
 "cells": [
  {
   "metadata": {},
   "cell_type": "markdown",
   "source": "# Classes",
   "id": "ce2299b4b0df5b09"
  },
  {
   "cell_type": "code",
   "id": "initial_id",
   "metadata": {
    "collapsed": true,
    "ExecuteTime": {
     "end_time": "2025-06-07T16:24:09.334153Z",
     "start_time": "2025-06-07T16:24:09.328490Z"
    }
   },
   "source": [
    "class Dog:\n",
    "    def __init__(self, name):\n",
    "        self.name = name\n",
    "        self.legs = 4\n",
    "\n",
    "    def speak(self):\n",
    "        print(self.name + \" says: Bark!\")\n",
    "\n",
    "myDog = Dog(\"Tiger\")\n",
    "myDog.speak()\n",
    "\n",
    "anotherDog = Dog(\"Rover\")\n",
    "anotherDog.speak()"
   ],
   "outputs": [
    {
     "name": "stdout",
     "output_type": "stream",
     "text": [
      "Tiger says: Bark!\n",
      "Rover says: Bark!\n"
     ]
    }
   ],
   "execution_count": 4
  }
 ],
 "metadata": {
  "kernelspec": {
   "display_name": "Python 3",
   "language": "python",
   "name": "python3"
  },
  "language_info": {
   "codemirror_mode": {
    "name": "ipython",
    "version": 2
   },
   "file_extension": ".py",
   "mimetype": "text/x-python",
   "name": "python",
   "nbconvert_exporter": "python",
   "pygments_lexer": "ipython2",
   "version": "2.7.6"
  }
 },
 "nbformat": 4,
 "nbformat_minor": 5
}
