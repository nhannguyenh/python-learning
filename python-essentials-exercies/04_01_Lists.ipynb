{
 "cells": [
  {
   "metadata": {},
   "cell_type": "markdown",
   "source": [
    "# Lists\n",
    "## List slicing"
   ],
   "id": "672b3d6afaff9108"
  },
  {
   "cell_type": "code",
   "id": "initial_id",
   "metadata": {
    "collapsed": true,
    "ExecuteTime": {
     "end_time": "2025-06-09T15:14:23.594813Z",
     "start_time": "2025-06-09T15:14:23.588272Z"
    }
   },
   "source": [
    "myList = [1, 2, 3, 4, 5, 6, 7, 8, 9, 10]\n",
    "myList[5:]"
   ],
   "outputs": [
    {
     "data": {
      "text/plain": [
       "[6, 7, 8, 9, 10]"
      ]
     },
     "execution_count": 20,
     "metadata": {},
     "output_type": "execute_result"
    }
   ],
   "execution_count": 20
  },
  {
   "metadata": {
    "ExecuteTime": {
     "end_time": "2025-06-09T15:02:36.263707Z",
     "start_time": "2025-06-09T15:02:36.258447Z"
    }
   },
   "cell_type": "code",
   "source": "myList[0:10:2]",
   "id": "9c52f4d7c1ffb139",
   "outputs": [
    {
     "data": {
      "text/plain": [
       "[1, 3, 5, 7, 9]"
      ]
     },
     "execution_count": 4,
     "metadata": {},
     "output_type": "execute_result"
    }
   ],
   "execution_count": 4
  },
  {
   "metadata": {
    "ExecuteTime": {
     "end_time": "2025-06-09T15:04:56.050119Z",
     "start_time": "2025-06-09T15:04:56.042573Z"
    }
   },
   "cell_type": "code",
   "source": "myList[:10:3]",
   "id": "ba089751690dc8d9",
   "outputs": [
    {
     "data": {
      "text/plain": [
       "[1, 4, 7, 10]"
      ]
     },
     "execution_count": 5,
     "metadata": {},
     "output_type": "execute_result"
    }
   ],
   "execution_count": 5
  },
  {
   "metadata": {
    "ExecuteTime": {
     "end_time": "2025-06-09T15:05:13.038353Z",
     "start_time": "2025-06-09T15:05:13.033275Z"
    }
   },
   "cell_type": "code",
   "source": "myList[::4]",
   "id": "dd47d9592797c4ac",
   "outputs": [
    {
     "data": {
      "text/plain": [
       "[1, 5, 9]"
      ]
     },
     "execution_count": 6,
     "metadata": {},
     "output_type": "execute_result"
    }
   ],
   "execution_count": 6
  },
  {
   "metadata": {
    "ExecuteTime": {
     "end_time": "2025-06-09T15:08:41.804292Z",
     "start_time": "2025-06-09T15:08:41.799340Z"
    }
   },
   "cell_type": "code",
   "source": [
    "secondList = list(range(20))\n",
    "secondList[::5]"
   ],
   "id": "f8f50198d4eb20a9",
   "outputs": [
    {
     "data": {
      "text/plain": [
       "[0, 5, 10, 15]"
      ]
     },
     "execution_count": 8,
     "metadata": {},
     "output_type": "execute_result"
    }
   ],
   "execution_count": 8
  },
  {
   "metadata": {
    "ExecuteTime": {
     "end_time": "2025-06-09T15:08:52.417482Z",
     "start_time": "2025-06-09T15:08:52.412636Z"
    }
   },
   "cell_type": "code",
   "source": "secondList[::-5]",
   "id": "f1d2c735a8ce208f",
   "outputs": [
    {
     "data": {
      "text/plain": [
       "[19, 14, 9, 4]"
      ]
     },
     "execution_count": 9,
     "metadata": {},
     "output_type": "execute_result"
    }
   ],
   "execution_count": 9
  },
  {
   "metadata": {},
   "cell_type": "markdown",
   "source": "## Modifying Lists",
   "id": "3466637cd7fb3d4a"
  },
  {
   "metadata": {
    "ExecuteTime": {
     "end_time": "2025-06-09T15:14:27.851763Z",
     "start_time": "2025-06-09T15:14:27.846092Z"
    }
   },
   "cell_type": "code",
   "source": [
    "myList.append(20)\n",
    "myList"
   ],
   "id": "78dbe3d29d86bb01",
   "outputs": [
    {
     "data": {
      "text/plain": [
       "[1, 2, 3, 4, 5, 6, 7, 8, 9, 10, 20]"
      ]
     },
     "execution_count": 21,
     "metadata": {},
     "output_type": "execute_result"
    }
   ],
   "execution_count": 21
  },
  {
   "metadata": {
    "ExecuteTime": {
     "end_time": "2025-06-09T15:14:32.249642Z",
     "start_time": "2025-06-09T15:14:32.243703Z"
    }
   },
   "cell_type": "code",
   "source": [
    "myList.insert(2, \"new value\")\n",
    "myList"
   ],
   "id": "7ca87fd33790be27",
   "outputs": [
    {
     "data": {
      "text/plain": [
       "[1, 2, 'new value', 3, 4, 5, 6, 7, 8, 9, 10, 20]"
      ]
     },
     "execution_count": 22,
     "metadata": {},
     "output_type": "execute_result"
    }
   ],
   "execution_count": 22
  },
  {
   "metadata": {
    "ExecuteTime": {
     "end_time": "2025-06-09T15:15:23.661257Z",
     "start_time": "2025-06-09T15:15:23.655503Z"
    }
   },
   "cell_type": "code",
   "source": [
    "myList.remove(5)\n",
    "myList"
   ],
   "id": "2c575574884b7832",
   "outputs": [
    {
     "data": {
      "text/plain": [
       "[1, 2, 'new value', 3, 4, 6, 7, 8, 9, 10, 20]"
      ]
     },
     "execution_count": 23,
     "metadata": {},
     "output_type": "execute_result"
    }
   ],
   "execution_count": 23
  },
  {
   "metadata": {
    "ExecuteTime": {
     "end_time": "2025-06-09T15:16:10.500630Z",
     "start_time": "2025-06-09T15:16:10.495287Z"
    }
   },
   "cell_type": "code",
   "source": "myList.pop()",
   "id": "c4397772de9c9dd2",
   "outputs": [
    {
     "data": {
      "text/plain": [
       "20"
      ]
     },
     "execution_count": 24,
     "metadata": {},
     "output_type": "execute_result"
    }
   ],
   "execution_count": 24
  },
  {
   "metadata": {
    "ExecuteTime": {
     "end_time": "2025-06-09T15:19:46.536979Z",
     "start_time": "2025-06-09T15:19:46.532816Z"
    }
   },
   "cell_type": "code",
   "source": [
    "a = [1, 2, 3, 4]\n",
    "b = a\n",
    "b.append(6)\n",
    "print(a)\n",
    "print(b)"
   ],
   "id": "753048bdd43ea0a7",
   "outputs": [
    {
     "name": "stdout",
     "output_type": "stream",
     "text": [
      "[1, 2, 3, 4, 6]\n",
      "[1, 2, 3, 4, 6]\n"
     ]
    }
   ],
   "execution_count": 28
  },
  {
   "metadata": {
    "ExecuteTime": {
     "end_time": "2025-06-09T15:20:19.697821Z",
     "start_time": "2025-06-09T15:20:19.692205Z"
    }
   },
   "cell_type": "code",
   "source": [
    "c = a.copy()\n",
    "c.append(20)\n",
    "print(a)\n",
    "print(c)"
   ],
   "id": "be57de115bc5072b",
   "outputs": [
    {
     "name": "stdout",
     "output_type": "stream",
     "text": [
      "[1, 2, 3, 4, 6]\n",
      "[1, 2, 3, 4, 6, 20]\n"
     ]
    }
   ],
   "execution_count": 29
  }
 ],
 "metadata": {
  "kernelspec": {
   "display_name": "Python 3",
   "language": "python",
   "name": "python3"
  },
  "language_info": {
   "codemirror_mode": {
    "name": "ipython",
    "version": 2
   },
   "file_extension": ".py",
   "mimetype": "text/x-python",
   "name": "python",
   "nbconvert_exporter": "python",
   "pygments_lexer": "ipython2",
   "version": "2.7.6"
  }
 },
 "nbformat": 4,
 "nbformat_minor": 5
}
