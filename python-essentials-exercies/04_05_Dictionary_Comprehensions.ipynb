{
 "cells": [
  {
   "cell_type": "markdown",
   "id": "b8f3bdd4",
   "metadata": {},
   "source": [
    "# Dictionary Comprehensions"
   ]
  },
  {
   "cell_type": "code",
   "execution_count": 4,
   "id": "06da784e",
   "metadata": {},
   "outputs": [
    {
     "data": {
      "text/plain": [
       "{'a': 'monkey', 'b': 'chicken', 'c': 'lion', 'd': 'cat'}"
      ]
     },
     "execution_count": 4,
     "metadata": {},
     "output_type": "execute_result"
    }
   ],
   "source": [
    "animalList = [\n",
    "    ('a', 'monkey'),\n",
    "    ('b', 'chicken'),\n",
    "    ('c', 'lion'),\n",
    "    ('d', 'cat')\n",
    "]\n",
    "\n",
    "animals = {item[0]: item[1] for item in animalList}\n",
    "animals"
   ]
  },
  {
   "cell_type": "code",
   "execution_count": 5,
   "id": "55d85e5c",
   "metadata": {},
   "outputs": [
    {
     "data": {
      "text/plain": [
       "{'a': 'monkey', 'b': 'chicken', 'c': 'lion', 'd': 'cat'}"
      ]
     },
     "execution_count": 5,
     "metadata": {},
     "output_type": "execute_result"
    }
   ],
   "source": [
    "animal1s = {key: value for key, value in animalList}\n",
    "animal1s"
   ]
  },
  {
   "cell_type": "code",
   "execution_count": 6,
   "id": "e733a462",
   "metadata": {},
   "outputs": [
    {
     "data": {
      "text/plain": [
       "dict_items([('a', 'monkey'), ('b', 'chicken'), ('c', 'lion'), ('d', 'cat')])"
      ]
     },
     "execution_count": 6,
     "metadata": {},
     "output_type": "execute_result"
    }
   ],
   "source": [
    "animals.items()"
   ]
  },
  {
   "cell_type": "code",
   "execution_count": 7,
   "id": "4c527fe7",
   "metadata": {},
   "outputs": [
    {
     "data": {
      "text/plain": [
       "[('a', 'monkey'), ('b', 'chicken'), ('c', 'lion'), ('d', 'cat')]"
      ]
     },
     "execution_count": 7,
     "metadata": {},
     "output_type": "execute_result"
    }
   ],
   "source": [
    "list(animals.items())"
   ]
  },
  {
   "cell_type": "code",
   "execution_count": null,
   "id": "a0ef3dac",
   "metadata": {},
   "outputs": [],
   "source": []
  }
 ],
 "metadata": {
  "kernelspec": {
   "display_name": "Python 3",
   "language": "python",
   "name": "python3"
  },
  "language_info": {
   "codemirror_mode": {
    "name": "ipython",
    "version": 3
   },
   "file_extension": ".py",
   "mimetype": "text/x-python",
   "name": "python",
   "nbconvert_exporter": "python",
   "pygments_lexer": "ipython3",
   "version": "3.13.4"
  }
 },
 "nbformat": 4,
 "nbformat_minor": 5
}
