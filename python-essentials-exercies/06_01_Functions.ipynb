{
 "cells": [
  {
   "metadata": {},
   "cell_type": "markdown",
   "source": "# Functions",
   "id": "4a8c881a06767173"
  },
  {
   "cell_type": "code",
   "id": "initial_id",
   "metadata": {
    "collapsed": true,
    "ExecuteTime": {
     "end_time": "2025-06-11T16:08:02.999950Z",
     "start_time": "2025-06-11T16:08:02.988034Z"
    }
   },
   "source": [
    "def perform_operation(num1, num2, operation):\n",
    "    if operation == 'add':\n",
    "        return num1 + num2\n",
    "    if operation == 'subtract':\n",
    "        return num1 - num2\n",
    "\n",
    "perform_operation(2, 3, \"add\")\n"
   ],
   "outputs": [
    {
     "data": {
      "text/plain": [
       "5"
      ]
     },
     "execution_count": 1,
     "metadata": {},
     "output_type": "execute_result"
    }
   ],
   "execution_count": 1
  },
  {
   "metadata": {},
   "cell_type": "markdown",
   "source": "## Named Parameters",
   "id": "dee3784ea97fd7de"
  },
  {
   "metadata": {
    "ExecuteTime": {
     "end_time": "2025-06-11T16:10:05.580779Z",
     "start_time": "2025-06-11T16:10:05.575212Z"
    }
   },
   "cell_type": "code",
   "source": [
    "def perform_operation(num1, num2, operation=\"add\"):\n",
    "    if operation == 'add':\n",
    "        return num1 + num2\n",
    "    if operation == 'subtract':\n",
    "        return num1 - num2\n",
    "\n",
    "perform_operation(2, 3)"
   ],
   "id": "3f9ae87e26f10528",
   "outputs": [
    {
     "data": {
      "text/plain": [
       "5"
      ]
     },
     "execution_count": 4,
     "metadata": {},
     "output_type": "execute_result"
    }
   ],
   "execution_count": 4
  },
  {
   "metadata": {
    "ExecuteTime": {
     "end_time": "2025-06-11T16:10:30.057492Z",
     "start_time": "2025-06-11T16:10:30.048653Z"
    }
   },
   "cell_type": "code",
   "source": "perform_operation(2, 3, \"subtract\")",
   "id": "fc370ebccfb9695a",
   "outputs": [
    {
     "data": {
      "text/plain": [
       "-1"
      ]
     },
     "execution_count": 5,
     "metadata": {},
     "output_type": "execute_result"
    }
   ],
   "execution_count": 5
  },
  {
   "metadata": {
    "ExecuteTime": {
     "end_time": "2025-06-11T16:11:41.804498Z",
     "start_time": "2025-06-11T16:11:41.799502Z"
    }
   },
   "cell_type": "code",
   "source": "perform_operation(2, 3, operation=\"subtract\")",
   "id": "a0bca3cc33de9587",
   "outputs": [
    {
     "data": {
      "text/plain": [
       "-1"
      ]
     },
     "execution_count": 6,
     "metadata": {},
     "output_type": "execute_result"
    }
   ],
   "execution_count": 6
  },
  {
   "metadata": {
    "ExecuteTime": {
     "end_time": "2025-06-11T16:12:25.361296Z",
     "start_time": "2025-06-11T16:12:25.354628Z"
    }
   },
   "cell_type": "code",
   "source": [
    "def perform_operation(num1, num2, operation=\"add\", message=\"Default message\"):\n",
    "    print(message)\n",
    "    if operation == 'add':\n",
    "        return num1 + num2\n",
    "    if operation == 'subtract':\n",
    "        return num1 - num2\n",
    "\n",
    "perform_operation(2, 3)"
   ],
   "id": "323b6a79e718953b",
   "outputs": [
    {
     "name": "stdout",
     "output_type": "stream",
     "text": [
      "Default message\n"
     ]
    },
    {
     "data": {
      "text/plain": [
       "5"
      ]
     },
     "execution_count": 7,
     "metadata": {},
     "output_type": "execute_result"
    }
   ],
   "execution_count": 7
  },
  {
   "metadata": {
    "ExecuteTime": {
     "end_time": "2025-06-11T16:12:46.517906Z",
     "start_time": "2025-06-11T16:12:46.512866Z"
    }
   },
   "cell_type": "code",
   "source": "perform_operation(2, 3, message=\"A new message\", operation=\"subtract\")",
   "id": "9cf518ee732aa298",
   "outputs": [
    {
     "name": "stdout",
     "output_type": "stream",
     "text": [
      "A new message\n"
     ]
    },
    {
     "data": {
      "text/plain": [
       "-1"
      ]
     },
     "execution_count": 8,
     "metadata": {},
     "output_type": "execute_result"
    }
   ],
   "execution_count": 8
  },
  {
   "metadata": {},
   "cell_type": "markdown",
   "source": "## *args",
   "id": "3f4a1488909ee130"
  },
  {
   "metadata": {
    "ExecuteTime": {
     "end_time": "2025-06-11T16:14:36.949515Z",
     "start_time": "2025-06-11T16:14:36.633732Z"
    }
   },
   "cell_type": "code",
   "source": [
    "def perform_operation(arg):\n",
    "    print(arg)\n",
    "\n",
    "perform_operation(1, 2, 3)"
   ],
   "id": "38901d639d2e519b",
   "outputs": [
    {
     "ename": "TypeError",
     "evalue": "perform_operation() takes 1 positional argument but 3 were given",
     "output_type": "error",
     "traceback": [
      "\u001B[31m---------------------------------------------------------------------------\u001B[39m",
      "\u001B[31mTypeError\u001B[39m                                 Traceback (most recent call last)",
      "\u001B[36mCell\u001B[39m\u001B[36m \u001B[39m\u001B[32mIn[10]\u001B[39m\u001B[32m, line 4\u001B[39m\n\u001B[32m      1\u001B[39m \u001B[38;5;28;01mdef\u001B[39;00m\u001B[38;5;250m \u001B[39m\u001B[34mperform_operation\u001B[39m(arg):\n\u001B[32m      2\u001B[39m     \u001B[38;5;28mprint\u001B[39m(arg)\n\u001B[32m----> \u001B[39m\u001B[32m4\u001B[39m \u001B[43mperform_operation\u001B[49m\u001B[43m(\u001B[49m\u001B[32;43m1\u001B[39;49m\u001B[43m,\u001B[49m\u001B[43m \u001B[49m\u001B[32;43m2\u001B[39;49m\u001B[43m,\u001B[49m\u001B[43m \u001B[49m\u001B[32;43m3\u001B[39;49m\u001B[43m)\u001B[49m\n",
      "\u001B[31mTypeError\u001B[39m: perform_operation() takes 1 positional argument but 3 were given"
     ]
    }
   ],
   "execution_count": 10
  },
  {
   "metadata": {
    "ExecuteTime": {
     "end_time": "2025-06-11T16:15:20.660822Z",
     "start_time": "2025-06-11T16:15:20.657057Z"
    }
   },
   "cell_type": "code",
   "source": [
    "def perform_operation(*arg):\n",
    "    print(arg)\n",
    "\n",
    "perform_operation(1, 2, 3)"
   ],
   "id": "e4e5ee3866d6dce5",
   "outputs": [
    {
     "name": "stdout",
     "output_type": "stream",
     "text": [
      "(1, 2, 3)\n"
     ]
    }
   ],
   "execution_count": 11
  },
  {
   "metadata": {},
   "cell_type": "markdown",
   "source": "## *kwargs",
   "id": "9b9fbefbac615d00"
  },
  {
   "metadata": {
    "ExecuteTime": {
     "end_time": "2025-06-11T16:16:52.926240Z",
     "start_time": "2025-06-11T16:16:52.894837Z"
    }
   },
   "cell_type": "code",
   "source": [
    "def perform_operation(*arg):\n",
    "    print(arg)\n",
    "\n",
    "perform_operation(1, 2, 3, operation=\"add\")"
   ],
   "id": "1e0c130bb4aeda7",
   "outputs": [
    {
     "ename": "TypeError",
     "evalue": "perform_operation() got an unexpected keyword argument 'operation'",
     "output_type": "error",
     "traceback": [
      "\u001B[31m---------------------------------------------------------------------------\u001B[39m",
      "\u001B[31mTypeError\u001B[39m                                 Traceback (most recent call last)",
      "\u001B[36mCell\u001B[39m\u001B[36m \u001B[39m\u001B[32mIn[12]\u001B[39m\u001B[32m, line 4\u001B[39m\n\u001B[32m      1\u001B[39m \u001B[38;5;28;01mdef\u001B[39;00m\u001B[38;5;250m \u001B[39m\u001B[34mperform_operation\u001B[39m(*arg):\n\u001B[32m      2\u001B[39m     \u001B[38;5;28mprint\u001B[39m(arg)\n\u001B[32m----> \u001B[39m\u001B[32m4\u001B[39m \u001B[43mperform_operation\u001B[49m\u001B[43m(\u001B[49m\u001B[32;43m1\u001B[39;49m\u001B[43m,\u001B[49m\u001B[43m \u001B[49m\u001B[32;43m2\u001B[39;49m\u001B[43m,\u001B[49m\u001B[43m \u001B[49m\u001B[32;43m3\u001B[39;49m\u001B[43m,\u001B[49m\u001B[43m \u001B[49m\u001B[43moperation\u001B[49m\u001B[43m=\u001B[49m\u001B[33;43m\"\u001B[39;49m\u001B[33;43madd\u001B[39;49m\u001B[33;43m\"\u001B[39;49m\u001B[43m)\u001B[49m\n",
      "\u001B[31mTypeError\u001B[39m: perform_operation() got an unexpected keyword argument 'operation'"
     ]
    }
   ],
   "execution_count": 12
  },
  {
   "metadata": {
    "ExecuteTime": {
     "end_time": "2025-06-11T16:18:47.276898Z",
     "start_time": "2025-06-11T16:18:47.272425Z"
    }
   },
   "cell_type": "code",
   "source": [
    "def perform_operation(*args, **kwargs):\n",
    "    print(args)\n",
    "    print(kwargs)\n",
    "\n",
    "perform_operation(1, 2, 3, operation=\"add\")"
   ],
   "id": "d8dbea4ab5dedc5f",
   "outputs": [
    {
     "name": "stdout",
     "output_type": "stream",
     "text": [
      "(1, 2, 3)\n",
      "{'operation': 'add'}\n"
     ]
    }
   ],
   "execution_count": 15
  },
  {
   "metadata": {},
   "cell_type": "code",
   "outputs": [],
   "execution_count": null,
   "source": "",
   "id": "b51abd1427097ec0"
  }
 ],
 "metadata": {
  "kernelspec": {
   "display_name": "Python 3",
   "language": "python",
   "name": "python3"
  },
  "language_info": {
   "codemirror_mode": {
    "name": "ipython",
    "version": 2
   },
   "file_extension": ".py",
   "mimetype": "text/x-python",
   "name": "python",
   "nbconvert_exporter": "python",
   "pygments_lexer": "ipython2",
   "version": "2.7.6"
  }
 },
 "nbformat": 4,
 "nbformat_minor": 5
}
