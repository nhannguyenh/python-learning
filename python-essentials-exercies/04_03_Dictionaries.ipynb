{
 "cells": [
  {
   "metadata": {},
   "cell_type": "markdown",
   "source": "# Dictionaries",
   "id": "2051c0420fc9345c"
  },
  {
   "cell_type": "code",
   "id": "initial_id",
   "metadata": {
    "collapsed": true,
    "ExecuteTime": {
     "end_time": "2025-06-09T15:47:50.270482Z",
     "start_time": "2025-06-09T15:47:50.258563Z"
    }
   },
   "source": [
    "myDict = {\n",
    "    'a': 1,\n",
    "    'b': 2,\n",
    "    'c': 3\n",
    "}\n",
    "myDict"
   ],
   "outputs": [
    {
     "data": {
      "text/plain": [
       "{'a': 1, 'b': 2, 'c': 3}"
      ]
     },
     "execution_count": 2,
     "metadata": {},
     "output_type": "execute_result"
    }
   ],
   "execution_count": 2
  },
  {
   "metadata": {
    "ExecuteTime": {
     "end_time": "2025-06-09T15:47:59.687068Z",
     "start_time": "2025-06-09T15:47:59.682684Z"
    }
   },
   "cell_type": "code",
   "source": "myDict['a']",
   "id": "a1ae3fb5317be8fc",
   "outputs": [
    {
     "data": {
      "text/plain": [
       "1"
      ]
     },
     "execution_count": 3,
     "metadata": {},
     "output_type": "execute_result"
    }
   ],
   "execution_count": 3
  },
  {
   "metadata": {
    "ExecuteTime": {
     "end_time": "2025-06-09T15:48:12.379865Z",
     "start_time": "2025-06-09T15:48:12.369913Z"
    }
   },
   "cell_type": "code",
   "source": [
    "myDict['d'] = 5\n",
    "myDict"
   ],
   "id": "856929c08fe69db9",
   "outputs": [
    {
     "data": {
      "text/plain": [
       "{'a': 1, 'b': 2, 'c': 3, 'd': 5}"
      ]
     },
     "execution_count": 4,
     "metadata": {},
     "output_type": "execute_result"
    }
   ],
   "execution_count": 4
  },
  {
   "metadata": {
    "ExecuteTime": {
     "end_time": "2025-06-09T15:49:23.569073Z",
     "start_time": "2025-06-09T15:49:23.563092Z"
    }
   },
   "cell_type": "code",
   "source": [
    "myDict['a'] = 10\n",
    "myDict"
   ],
   "id": "e7ca10a41e2cd7c0",
   "outputs": [
    {
     "data": {
      "text/plain": [
       "{'a': 10, 'b': 2, 'c': 3, 'd': 5}"
      ]
     },
     "execution_count": 5,
     "metadata": {},
     "output_type": "execute_result"
    }
   ],
   "execution_count": 5
  },
  {
   "metadata": {
    "ExecuteTime": {
     "end_time": "2025-06-09T15:49:32.353572Z",
     "start_time": "2025-06-09T15:49:32.348141Z"
    }
   },
   "cell_type": "code",
   "source": "myDict.keys()",
   "id": "db91b561d010db7e",
   "outputs": [
    {
     "data": {
      "text/plain": [
       "dict_keys(['a', 'b', 'c', 'd'])"
      ]
     },
     "execution_count": 6,
     "metadata": {},
     "output_type": "execute_result"
    }
   ],
   "execution_count": 6
  },
  {
   "metadata": {
    "ExecuteTime": {
     "end_time": "2025-06-09T15:49:38.648Z",
     "start_time": "2025-06-09T15:49:38.642903Z"
    }
   },
   "cell_type": "code",
   "source": "myDict.values()",
   "id": "3513e08e2e195ce4",
   "outputs": [
    {
     "data": {
      "text/plain": [
       "dict_values([10, 2, 3, 5])"
      ]
     },
     "execution_count": 7,
     "metadata": {},
     "output_type": "execute_result"
    }
   ],
   "execution_count": 7
  },
  {
   "metadata": {
    "ExecuteTime": {
     "end_time": "2025-06-09T15:50:49.424186Z",
     "start_time": "2025-06-09T15:50:49.125880Z"
    }
   },
   "cell_type": "code",
   "source": "myDict['e']",
   "id": "46887d15f90a19d6",
   "outputs": [
    {
     "ename": "KeyError",
     "evalue": "'e'",
     "output_type": "error",
     "traceback": [
      "\u001B[31m---------------------------------------------------------------------------\u001B[39m",
      "\u001B[31mKeyError\u001B[39m                                  Traceback (most recent call last)",
      "\u001B[36mCell\u001B[39m\u001B[36m \u001B[39m\u001B[32mIn[8]\u001B[39m\u001B[32m, line 1\u001B[39m\n\u001B[32m----> \u001B[39m\u001B[32m1\u001B[39m \u001B[43mmyDict\u001B[49m\u001B[43m[\u001B[49m\u001B[33;43m'\u001B[39;49m\u001B[33;43me\u001B[39;49m\u001B[33;43m'\u001B[39;49m\u001B[43m]\u001B[49m\n",
      "\u001B[31mKeyError\u001B[39m: 'e'"
     ]
    }
   ],
   "execution_count": 8
  },
  {
   "metadata": {
    "ExecuteTime": {
     "end_time": "2025-06-09T15:51:51.899073Z",
     "start_time": "2025-06-09T15:51:51.894998Z"
    }
   },
   "cell_type": "code",
   "source": "print(myDict.get('e'))",
   "id": "922708442b973e31",
   "outputs": [
    {
     "name": "stdout",
     "output_type": "stream",
     "text": [
      "None\n"
     ]
    }
   ],
   "execution_count": 9
  },
  {
   "metadata": {
    "ExecuteTime": {
     "end_time": "2025-06-09T15:52:24.910634Z",
     "start_time": "2025-06-09T15:52:24.906647Z"
    }
   },
   "cell_type": "code",
   "source": "print(myDict.get('e', 6))",
   "id": "4f50383864df9b05",
   "outputs": [
    {
     "name": "stdout",
     "output_type": "stream",
     "text": [
      "6\n"
     ]
    }
   ],
   "execution_count": 10
  },
  {
   "metadata": {
    "ExecuteTime": {
     "end_time": "2025-06-09T16:00:50.549661Z",
     "start_time": "2025-06-09T16:00:50.539919Z"
    }
   },
   "cell_type": "code",
   "source": [
    "mySecondDict = {\n",
    "    'a': [1, 2, 3],\n",
    "    'b': [4.2]\n",
    "}\n",
    "mySecondDict"
   ],
   "id": "5cce9c8472af2430",
   "outputs": [
    {
     "data": {
      "text/plain": [
       "{'a': [1, 2, 3], 'b': [4.2]}"
      ]
     },
     "execution_count": 16,
     "metadata": {},
     "output_type": "execute_result"
    }
   ],
   "execution_count": 16
  },
  {
   "metadata": {
    "ExecuteTime": {
     "end_time": "2025-06-09T16:00:54.376733Z",
     "start_time": "2025-06-09T16:00:54.370641Z"
    }
   },
   "cell_type": "code",
   "source": [
    "mySecondDict['b'].append(3.5)\n",
    "mySecondDict"
   ],
   "id": "6537c841a6f7ab3a",
   "outputs": [
    {
     "data": {
      "text/plain": [
       "{'a': [1, 2, 3], 'b': [4.2, 3.5]}"
      ]
     },
     "execution_count": 17,
     "metadata": {},
     "output_type": "execute_result"
    }
   ],
   "execution_count": 17
  },
  {
   "metadata": {
    "ExecuteTime": {
     "end_time": "2025-06-09T16:01:02.674792Z",
     "start_time": "2025-06-09T16:01:02.668355Z"
    }
   },
   "cell_type": "code",
   "source": [
    "mySecondDict['c'] = \"string 1\"\n",
    "mySecondDict"
   ],
   "id": "24b9788f6f88ba89",
   "outputs": [
    {
     "data": {
      "text/plain": [
       "{'a': [1, 2, 3], 'b': [4.2, 3.5], 'c': 'string 1'}"
      ]
     },
     "execution_count": 18,
     "metadata": {},
     "output_type": "execute_result"
    }
   ],
   "execution_count": 18
  },
  {
   "metadata": {},
   "cell_type": "markdown",
   "source": "## The Default Dict",
   "id": "c8c3c812dbeda09b"
  },
  {
   "metadata": {
    "ExecuteTime": {
     "end_time": "2025-06-09T16:01:54.644444Z",
     "start_time": "2025-06-09T16:01:54.638224Z"
    }
   },
   "cell_type": "code",
   "source": [
    "from collections import defaultdict\n",
    "\n",
    "animals = defaultdict(list)\n",
    "animals"
   ],
   "id": "a8cd398a2bef372e",
   "outputs": [
    {
     "data": {
      "text/plain": [
       "defaultdict(list, {})"
      ]
     },
     "execution_count": 19,
     "metadata": {},
     "output_type": "execute_result"
    }
   ],
   "execution_count": 19
  },
  {
   "metadata": {
    "ExecuteTime": {
     "end_time": "2025-06-09T16:02:27.357763Z",
     "start_time": "2025-06-09T16:02:27.353230Z"
    }
   },
   "cell_type": "code",
   "source": [
    "animals[1].append('monkey')\n",
    "animals"
   ],
   "id": "2eebfad024700334",
   "outputs": [
    {
     "data": {
      "text/plain": [
       "defaultdict(list, {1: ['monkey']})"
      ]
     },
     "execution_count": 20,
     "metadata": {},
     "output_type": "execute_result"
    }
   ],
   "execution_count": 20
  },
  {
   "metadata": {
    "ExecuteTime": {
     "end_time": "2025-06-09T16:03:35.293841Z",
     "start_time": "2025-06-09T16:03:35.286129Z"
    }
   },
   "cell_type": "code",
   "source": [
    "animals[1].append('mouse')\n",
    "animals"
   ],
   "id": "b2b4ca19b438b144",
   "outputs": [
    {
     "data": {
      "text/plain": [
       "defaultdict(list, {1: ['monkey', 'mouse']})"
      ]
     },
     "execution_count": 21,
     "metadata": {},
     "output_type": "execute_result"
    }
   ],
   "execution_count": 21
  },
  {
   "metadata": {
    "ExecuteTime": {
     "end_time": "2025-06-09T16:04:46.651149Z",
     "start_time": "2025-06-09T16:04:46.640006Z"
    }
   },
   "cell_type": "code",
   "source": [
    "animals[2]\n",
    "animals"
   ],
   "id": "34bd783270a56a7b",
   "outputs": [
    {
     "data": {
      "text/plain": [
       "defaultdict(list, {1: ['monkey', 'mouse'], 2: []})"
      ]
     },
     "execution_count": 22,
     "metadata": {},
     "output_type": "execute_result"
    }
   ],
   "execution_count": 22
  }
 ],
 "metadata": {
  "kernelspec": {
   "display_name": "Python 3",
   "language": "python",
   "name": "python3"
  },
  "language_info": {
   "codemirror_mode": {
    "name": "ipython",
    "version": 2
   },
   "file_extension": ".py",
   "mimetype": "text/x-python",
   "name": "python",
   "nbconvert_exporter": "python",
   "pygments_lexer": "ipython2",
   "version": "2.7.6"
  }
 },
 "nbformat": 4,
 "nbformat_minor": 5
}
