{
 "cells": [
  {
   "cell_type": "markdown",
   "id": "2ab425d5",
   "metadata": {},
   "source": [
    "# Data Structures\n",
    "## Lists"
   ]
  },
  {
   "cell_type": "code",
   "execution_count": 11,
   "id": "b5397e5e",
   "metadata": {},
   "outputs": [
    {
     "name": "stdout",
     "output_type": "stream",
     "text": [
      "[1, 2, 3, 4, 5]\n"
     ]
    },
    {
     "data": {
      "text/plain": [
       "list"
      ]
     },
     "execution_count": 11,
     "metadata": {},
     "output_type": "execute_result"
    }
   ],
   "source": [
    "myLists = [1, 2, 3, 4, 5]\n",
    "print(myLists)\n",
    "type(myLists)"
   ]
  },
  {
   "cell_type": "code",
   "execution_count": 3,
   "id": "c0b6277b",
   "metadata": {},
   "outputs": [
    {
     "name": "stdout",
     "output_type": "stream",
     "text": [
      "['a', 'b', 'c', 'd']\n"
     ]
    }
   ],
   "source": [
    "listOfStrings = [\"a\", \"b\", \"c\", \"d\"]\n",
    "print(listOfStrings)"
   ]
  },
  {
   "cell_type": "code",
   "execution_count": 4,
   "id": "737787e3",
   "metadata": {},
   "outputs": [
    {
     "name": "stdout",
     "output_type": "stream",
     "text": [
      "[1, 'a', 3.14, True, None]\n"
     ]
    }
   ],
   "source": [
    "complexList = [1, \"a\", 3.14, True, None]\n",
    "print(complexList)"
   ]
  },
  {
   "cell_type": "code",
   "execution_count": 5,
   "id": "e7e3506c",
   "metadata": {},
   "outputs": [
    {
     "name": "stdout",
     "output_type": "stream",
     "text": [
      "[1, 2, ['a', 'b', 'c'], 4, 5]\n"
     ]
    }
   ],
   "source": [
    "listInsideList = [1, 2, [\"a\", \"b\", \"c\"], 4, 5]\n",
    "print(listInsideList)"
   ]
  },
  {
   "cell_type": "code",
   "execution_count": 7,
   "id": "26fd9b21",
   "metadata": {},
   "outputs": [
    {
     "name": "stdout",
     "output_type": "stream",
     "text": [
      "5\n",
      "3\n"
     ]
    }
   ],
   "source": [
    "print(len(listInsideList))\n",
    "print(len(listInsideList[2]))  # Length of the inner list"
   ]
  },
  {
   "cell_type": "code",
   "execution_count": 8,
   "id": "fc287a8d",
   "metadata": {},
   "outputs": [
    {
     "name": "stdout",
     "output_type": "stream",
     "text": [
      "2\n",
      "b\n"
     ]
    }
   ],
   "source": [
    "# Accessing elements\n",
    "print(listInsideList[1])  # Accessing the second element\n",
    "print(listInsideList[2][1])  # Accessing the second element of the inner list"
   ]
  },
  {
   "cell_type": "markdown",
   "id": "7c9718c9",
   "metadata": {},
   "source": [
    "## Sets"
   ]
  },
  {
   "cell_type": "code",
   "execution_count": 9,
   "id": "25528e0d",
   "metadata": {},
   "outputs": [
    {
     "name": "stdout",
     "output_type": "stream",
     "text": [
      "{1, 2, 3, 4, 5}\n"
     ]
    }
   ],
   "source": [
    "mySets = {1, 2, 3, 4, 5}\n",
    "print(mySets)"
   ]
  },
  {
   "cell_type": "code",
   "execution_count": 16,
   "id": "e0388015",
   "metadata": {},
   "outputs": [
    {
     "name": "stdout",
     "output_type": "stream",
     "text": [
      "{1, 2, 3, 4, 5}\n",
      "5\n"
     ]
    },
    {
     "data": {
      "text/plain": [
       "set"
      ]
     },
     "execution_count": 16,
     "metadata": {},
     "output_type": "execute_result"
    }
   ],
   "source": [
    "duplicatedSets = {1, 2, 2, 3, 4, 5}\n",
    "print(duplicatedSets)  # Sets automatically remove duplicates\n",
    "print(len(duplicatedSets))  # Length of the set\n",
    "type(duplicatedSets)"
   ]
  },
  {
   "cell_type": "code",
   "execution_count": 19,
   "id": "e704b9bd",
   "metadata": {},
   "outputs": [
    {
     "data": {
      "text/plain": [
       "False"
      ]
     },
     "execution_count": 19,
     "metadata": {},
     "output_type": "execute_result"
    }
   ],
   "source": [
    "[1,2] == [2,1]"
   ]
  },
  {
   "cell_type": "code",
   "execution_count": 20,
   "id": "7d94ba9f",
   "metadata": {},
   "outputs": [
    {
     "data": {
      "text/plain": [
       "True"
      ]
     },
     "execution_count": 20,
     "metadata": {},
     "output_type": "execute_result"
    }
   ],
   "source": [
    "{1, 2} == {2, 1}"
   ]
  },
  {
   "cell_type": "markdown",
   "id": "fc53a440",
   "metadata": {},
   "source": [
    "## Tuppes"
   ]
  },
  {
   "cell_type": "code",
   "execution_count": 21,
   "id": "e530f437",
   "metadata": {},
   "outputs": [
    {
     "name": "stdout",
     "output_type": "stream",
     "text": [
      "(1, 2, 3, 4, 5)\n"
     ]
    }
   ],
   "source": [
    "myTupples = (1, 2, 3, 4, 5)\n",
    "print(myTupples)"
   ]
  },
  {
   "cell_type": "code",
   "execution_count": 22,
   "id": "b0bce4ad",
   "metadata": {},
   "outputs": [
    {
     "data": {
      "text/plain": [
       "5"
      ]
     },
     "execution_count": 22,
     "metadata": {},
     "output_type": "execute_result"
    }
   ],
   "source": [
    "len(myTupples)"
   ]
  },
  {
   "cell_type": "code",
   "execution_count": 23,
   "id": "f8281ea2",
   "metadata": {},
   "outputs": [
    {
     "data": {
      "text/plain": [
       "False"
      ]
     },
     "execution_count": 23,
     "metadata": {},
     "output_type": "execute_result"
    }
   ],
   "source": [
    "(1, 2) == (2, 1)"
   ]
  },
  {
   "cell_type": "code",
   "execution_count": 24,
   "id": "db24b347",
   "metadata": {},
   "outputs": [
    {
     "name": "stdout",
     "output_type": "stream",
     "text": [
      "[1, 2, 3, 4, 5, 6]\n"
     ]
    }
   ],
   "source": [
    "myLists.append(6)  # Adding an element to the end of the list\n",
    "print(myLists)"
   ]
  },
  {
   "cell_type": "code",
   "execution_count": 25,
   "id": "375b6dad",
   "metadata": {},
   "outputs": [
    {
     "ename": "AttributeError",
     "evalue": "'tuple' object has no attribute 'append'",
     "output_type": "error",
     "traceback": [
      "\u001b[31m---------------------------------------------------------------------------\u001b[39m",
      "\u001b[31mAttributeError\u001b[39m                            Traceback (most recent call last)",
      "\u001b[36mCell\u001b[39m\u001b[36m \u001b[39m\u001b[32mIn[25]\u001b[39m\u001b[32m, line 1\u001b[39m\n\u001b[32m----> \u001b[39m\u001b[32m1\u001b[39m \u001b[43mmyTupples\u001b[49m\u001b[43m.\u001b[49m\u001b[43mappend\u001b[49m(\u001b[32m6\u001b[39m)  \u001b[38;5;66;03m# This will raise an AttributeError because tuples are immutable\u001b[39;00m\n",
      "\u001b[31mAttributeError\u001b[39m: 'tuple' object has no attribute 'append'"
     ]
    }
   ],
   "source": [
    "myTupples.append(6)  # This will raise an AttributeError because tuples are immutable"
   ]
  },
  {
   "cell_type": "markdown",
   "id": "22e381d7",
   "metadata": {},
   "source": [
    "## Dictionaries"
   ]
  },
  {
   "cell_type": "code",
   "execution_count": 26,
   "id": "7423bb85",
   "metadata": {},
   "outputs": [
    {
     "name": "stdout",
     "output_type": "stream",
     "text": [
      "{'name': 'John', 'age': 30, 'city': 'New York'}\n"
     ]
    }
   ],
   "source": [
    "myDistionary = {\n",
    "    \"name\": \"John\",\n",
    "    \"age\": 30,\n",
    "    \"city\": \"New York\"\n",
    "}\n",
    "print(myDistionary)"
   ]
  },
  {
   "cell_type": "code",
   "execution_count": 27,
   "id": "dbefcb9b",
   "metadata": {},
   "outputs": [
    {
     "data": {
      "text/plain": [
       "'John'"
      ]
     },
     "execution_count": 27,
     "metadata": {},
     "output_type": "execute_result"
    }
   ],
   "source": [
    "myDistionary[\"name\"]"
   ]
  },
  {
   "cell_type": "code",
   "execution_count": 28,
   "id": "e8411987",
   "metadata": {},
   "outputs": [
    {
     "name": "stdout",
     "output_type": "stream",
     "text": [
      "{'name': 'John', 'age': 31, 'city': 'New York'}\n"
     ]
    }
   ],
   "source": [
    "myDistionary = {\n",
    "    \"name\": \"John\",\n",
    "    \"age\": 30,\n",
    "    \"city\": \"New York\",\n",
    "    \"age\": 31  # This will overwrite the previous age value\n",
    "}\n",
    "print(myDistionary)"
   ]
  }
 ],
 "metadata": {
  "kernelspec": {
   "display_name": "Python 3",
   "language": "python",
   "name": "python3"
  },
  "language_info": {
   "codemirror_mode": {
    "name": "ipython",
    "version": 3
   },
   "file_extension": ".py",
   "mimetype": "text/x-python",
   "name": "python",
   "nbconvert_exporter": "python",
   "pygments_lexer": "ipython3",
   "version": "3.12.5"
  }
 },
 "nbformat": 4,
 "nbformat_minor": 5
}
